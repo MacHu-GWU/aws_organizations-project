{
 "cells": [
  {
   "cell_type": "markdown",
   "source": [
    "# AWS Organizations Examples"
   ],
   "metadata": {
    "collapsed": false,
    "pycharm": {
     "name": "#%% md\n"
    }
   }
  },
  {
   "cell_type": "code",
   "execution_count": 2,
   "outputs": [],
   "source": [
    "# First import the library\n",
    "import aws_organizations as aws_orgs\n",
    "# We need boto_session_manager to set the credential\n",
    "from boto_session_manager import BotoSesManager\n",
    "# rich is just for pretty printing\n",
    "from rich import print as rprint"
   ],
   "metadata": {
    "collapsed": false,
    "pycharm": {
     "name": "#%%\n"
    }
   }
  },
  {
   "cell_type": "markdown",
   "source": [
    "The ``aws_orgs.OrgStructure.get_org_structure`` method will call AWS API to do the following:\n",
    "\n",
    "- get the current organization and it's root account and root id\n",
    "- use root id to get all the accounts and organization units tree structure recursively\n",
    "- create a in-memory ``TREE`` data structure for better user experience"
   ],
   "metadata": {
    "collapsed": false,
    "pycharm": {
     "name": "#%% md\n"
    }
   }
  },
  {
   "cell_type": "code",
   "execution_count": 3,
   "outputs": [],
   "source": [
    "bsm = BotoSesManager(profile_name=\"my-org_infra_us_east_1\")\n",
    "org_struct = aws_orgs.OrgStructure.get_org_structure(bsm)"
   ],
   "metadata": {
    "collapsed": false,
    "pycharm": {
     "name": "#%%\n"
    }
   }
  },
  {
   "cell_type": "code",
   "execution_count": 4,
   "outputs": [
    {
     "name": "stdout",
     "output_type": "stream",
     "text": [
      "root (Root 'o-igflpr8b78')\n",
      "├── app (OrgUnit 'ou-rkp6-vq6m3h5y')\n",
      "│   └── my-org-app-dev (Account '222222222222')\n",
      "├── infra (OrgUnit 'ou-rkp6-cxgi4leg')\n",
      "│   └── my-org-infra (Account '333333333333')\n",
      "├── sandbox (OrgUnit 'ou-rkp6-r7cuoq1v')\n",
      "├── ml (OrgUnit 'ou-rkp6-s4uirmja')\n",
      "│   ├── my-org-ml-dev (Account '444444444444')\n",
      "│   ├── my-org-ml-staging (Account '555555555555')\n",
      "│   └── my-org-ml-prod (Account '666666666666')\n",
      "└── my-org-root (Account '111111111111')\n"
     ]
    }
   ],
   "source": [
    "# You can visualize the tree structure\n",
    "print(org_struct.visualize())"
   ],
   "metadata": {
    "collapsed": false,
    "pycharm": {
     "name": "#%%\n"
    }
   }
  },
  {
   "cell_type": "code",
   "execution_count": 18,
   "outputs": [
    {
     "name": "stdout",
     "output_type": "stream",
     "text": [
      "shape: (11, 5)\n",
      "┌─────────┬───────────────────────────────┬──────────────────┬──────────────────┬────────┐\n",
      "│ Type    ┆ Path                          ┆ Id               ┆ ParentId         ┆ RootId │\n",
      "│ ---     ┆ ---                           ┆ ---              ┆ ---              ┆ ---    │\n",
      "│ str     ┆ str                           ┆ str              ┆ str              ┆ str    │\n",
      "╞═════════╪═══════════════════════════════╪══════════════════╪══════════════════╪════════╡\n",
      "│ Root    ┆ root                          ┆ o-igflpr8b78     ┆ None             ┆ r-rkp6 │\n",
      "│ OrgUnit ┆ root | app                    ┆ ou-rkp6-vq6m3h5y ┆ o-igflpr8b78     ┆ r-rkp6 │\n",
      "│ Account ┆ root | app | my-org-app-dev   ┆ 222222222222     ┆ ou-rkp6-vq6m3h5y ┆ r-rkp6 │\n",
      "│ OrgUnit ┆ root | infra                  ┆ ou-rkp6-cxgi4leg ┆ o-igflpr8b78     ┆ r-rkp6 │\n",
      "│ Account ┆ root | infra | my-org-infra   ┆ 333333333333     ┆ ou-rkp6-cxgi4leg ┆ r-rkp6 │\n",
      "│ OrgUnit ┆ root | sandbox                ┆ ou-rkp6-r7cuoq1v ┆ o-igflpr8b78     ┆ r-rkp6 │\n",
      "│ OrgUnit ┆ root | ml                     ┆ ou-rkp6-s4uirmja ┆ o-igflpr8b78     ┆ r-rkp6 │\n",
      "│ Account ┆ root | ml | my-org-ml-dev     ┆ 444444444444     ┆ ou-rkp6-s4uirmja ┆ r-rkp6 │\n",
      "│ Account ┆ root | ml | my-org-ml-staging ┆ 555555555555     ┆ ou-rkp6-s4uirmja ┆ r-rkp6 │\n",
      "│ Account ┆ root | ml | my-org-ml-prod    ┆ 666666666666     ┆ ou-rkp6-s4uirmja ┆ r-rkp6 │\n",
      "│ Account ┆ root | my-org-root            ┆ 111111111111     ┆ o-igflpr8b78     ┆ r-rkp6 │\n",
      "└─────────┴───────────────────────────────┴──────────────────┴──────────────────┴────────┘\n"
     ]
    }
   ],
   "source": [
    "# You can also dump the organization structure data to CSV\n",
    "csv = org_struct.to_csv()\n",
    "\n",
    "import io\n",
    "import polars as pl\n",
    "\n",
    "pl.Config.set_tbl_rows(100)\n",
    "df = pl.read_csv(io.StringIO(csv), sep=\"\\t\")\n",
    "print(df)"
   ],
   "metadata": {
    "collapsed": false,
    "pycharm": {
     "name": "#%%\n"
    }
   }
  },
  {
   "cell_type": "code",
   "execution_count": 5,
   "outputs": [
    {
     "data": {
      "text/plain": "\u001B[1m[\u001B[0m\n    \u001B[1;35mAccount\u001B[0m\u001B[1m(\u001B[0m\n        \u001B[33mid\u001B[0m=\u001B[32m'111111111111'\u001B[0m,\n        \u001B[33marn\u001B[0m=\u001B[32m'arn:aws:organizations::111111111111:account/o-igflpr8b78/111111111111'\u001B[0m,\n        \u001B[33mname\u001B[0m=\u001B[32m'my-org-root'\u001B[0m,\n        \u001B[33memail\u001B[0m=\u001B[32m'my.name+my-org-root@mymail.com'\u001B[0m,\n        \u001B[33mstatus\u001B[0m=\u001B[32m'ACTIVE'\u001B[0m,\n        \u001B[33mjoined_method\u001B[0m=\u001B[32m'INVITED'\u001B[0m,\n        \u001B[33mjoined_timestamp\u001B[0m=\u001B[1;35mdatetime\u001B[0m\u001B[1;35m.datetime\u001B[0m\u001B[1m(\u001B[0m\u001B[1;36m2023\u001B[0m, \u001B[1;36m3\u001B[0m, \u001B[1;36m5\u001B[0m, \u001B[1;36m15\u001B[0m, \u001B[1;36m52\u001B[0m, \u001B[1;36m58\u001B[0m, \u001B[1;36m47000\u001B[0m, \u001B[33mtzinfo\u001B[0m=\u001B[1;35mtzlocal\u001B[0m\u001B[1m(\u001B[0m\u001B[1m)\u001B[0m\u001B[1m)\u001B[0m,\n        \u001B[33mroot_id\u001B[0m=\u001B[32m'r-rkp6'\u001B[0m\n    \u001B[1m)\u001B[0m\n\u001B[1m]\u001B[0m\n",
      "text/html": "<pre style=\"white-space:pre;overflow-x:auto;line-height:normal;font-family:Menlo,'DejaVu Sans Mono',consolas,'Courier New',monospace\"><span style=\"font-weight: bold\">[</span>\n    <span style=\"color: #800080; text-decoration-color: #800080; font-weight: bold\">Account</span><span style=\"font-weight: bold\">(</span>\n        <span style=\"color: #808000; text-decoration-color: #808000\">id</span>=<span style=\"color: #008000; text-decoration-color: #008000\">'111111111111'</span>,\n        <span style=\"color: #808000; text-decoration-color: #808000\">arn</span>=<span style=\"color: #008000; text-decoration-color: #008000\">'arn:aws:organizations::111111111111:account/o-igflpr8b78/111111111111'</span>,\n        <span style=\"color: #808000; text-decoration-color: #808000\">name</span>=<span style=\"color: #008000; text-decoration-color: #008000\">'my-org-root'</span>,\n        <span style=\"color: #808000; text-decoration-color: #808000\">email</span>=<span style=\"color: #008000; text-decoration-color: #008000\">'my.name+my-org-root@mymail.com'</span>,\n        <span style=\"color: #808000; text-decoration-color: #808000\">status</span>=<span style=\"color: #008000; text-decoration-color: #008000\">'ACTIVE'</span>,\n        <span style=\"color: #808000; text-decoration-color: #808000\">joined_method</span>=<span style=\"color: #008000; text-decoration-color: #008000\">'INVITED'</span>,\n        <span style=\"color: #808000; text-decoration-color: #808000\">joined_timestamp</span>=<span style=\"color: #800080; text-decoration-color: #800080; font-weight: bold\">datetime</span><span style=\"color: #800080; text-decoration-color: #800080; font-weight: bold\">.datetime</span><span style=\"font-weight: bold\">(</span><span style=\"color: #008080; text-decoration-color: #008080; font-weight: bold\">2023</span>, <span style=\"color: #008080; text-decoration-color: #008080; font-weight: bold\">3</span>, <span style=\"color: #008080; text-decoration-color: #008080; font-weight: bold\">5</span>, <span style=\"color: #008080; text-decoration-color: #008080; font-weight: bold\">15</span>, <span style=\"color: #008080; text-decoration-color: #008080; font-weight: bold\">52</span>, <span style=\"color: #008080; text-decoration-color: #008080; font-weight: bold\">58</span>, <span style=\"color: #008080; text-decoration-color: #008080; font-weight: bold\">47000</span>, <span style=\"color: #808000; text-decoration-color: #808000\">tzinfo</span>=<span style=\"color: #800080; text-decoration-color: #800080; font-weight: bold\">tzlocal</span><span style=\"font-weight: bold\">())</span>,\n        <span style=\"color: #808000; text-decoration-color: #808000\">root_id</span>=<span style=\"color: #008000; text-decoration-color: #008000\">'r-rkp6'</span>\n    <span style=\"font-weight: bold\">)</span>\n<span style=\"font-weight: bold\">]</span>\n</pre>\n"
     },
     "metadata": {},
     "output_type": "display_data"
    }
   ],
   "source": [
    "# You can access the top level accounts\n",
    "rprint(org_struct.root.accounts)"
   ],
   "metadata": {
    "collapsed": false,
    "pycharm": {
     "name": "#%%\n"
    }
   }
  },
  {
   "cell_type": "code",
   "execution_count": 6,
   "outputs": [
    {
     "data": {
      "text/plain": "\u001B[1m[\u001B[0m\n    \u001B[1;35mOrganizationalUnit\u001B[0m\u001B[1m(\u001B[0m\n        \u001B[33mid\u001B[0m=\u001B[32m'ou-rkp6-vq6m3h5y'\u001B[0m,\n        \u001B[33marn\u001B[0m=\u001B[32m'arn:aws:organizations::111111111111:ou/o-igflpr8b78/ou-rkp6-vq6m3h5y'\u001B[0m,\n        \u001B[33mname\u001B[0m=\u001B[32m'app'\u001B[0m,\n        \u001B[33mroot_id\u001B[0m=\u001B[32m'r-rkp6'\u001B[0m\n    \u001B[1m)\u001B[0m,\n    \u001B[1;35mOrganizationalUnit\u001B[0m\u001B[1m(\u001B[0m\n        \u001B[33mid\u001B[0m=\u001B[32m'ou-rkp6-cxgi4leg'\u001B[0m,\n        \u001B[33marn\u001B[0m=\u001B[32m'arn:aws:organizations::111111111111:ou/o-igflpr8b78/ou-rkp6-cxgi4leg'\u001B[0m,\n        \u001B[33mname\u001B[0m=\u001B[32m'infra'\u001B[0m,\n        \u001B[33mroot_id\u001B[0m=\u001B[32m'r-rkp6'\u001B[0m\n    \u001B[1m)\u001B[0m,\n    \u001B[1;35mOrganizationalUnit\u001B[0m\u001B[1m(\u001B[0m\n        \u001B[33mid\u001B[0m=\u001B[32m'ou-rkp6-r7cuoq1v'\u001B[0m,\n        \u001B[33marn\u001B[0m=\u001B[32m'arn:aws:organizations::111111111111:ou/o-igflpr8b78/ou-rkp6-r7cuoq1v'\u001B[0m,\n        \u001B[33mname\u001B[0m=\u001B[32m'sandbox'\u001B[0m,\n        \u001B[33mroot_id\u001B[0m=\u001B[32m'r-rkp6'\u001B[0m\n    \u001B[1m)\u001B[0m,\n    \u001B[1;35mOrganizationalUnit\u001B[0m\u001B[1m(\u001B[0m\n        \u001B[33mid\u001B[0m=\u001B[32m'ou-rkp6-s4uirmja'\u001B[0m,\n        \u001B[33marn\u001B[0m=\u001B[32m'arn:aws:organizations::111111111111:ou/o-igflpr8b78/ou-rkp6-s4uirmja'\u001B[0m,\n        \u001B[33mname\u001B[0m=\u001B[32m'ml'\u001B[0m,\n        \u001B[33mroot_id\u001B[0m=\u001B[32m'r-rkp6'\u001B[0m\n    \u001B[1m)\u001B[0m\n\u001B[1m]\u001B[0m\n",
      "text/html": "<pre style=\"white-space:pre;overflow-x:auto;line-height:normal;font-family:Menlo,'DejaVu Sans Mono',consolas,'Courier New',monospace\"><span style=\"font-weight: bold\">[</span>\n    <span style=\"color: #800080; text-decoration-color: #800080; font-weight: bold\">OrganizationalUnit</span><span style=\"font-weight: bold\">(</span>\n        <span style=\"color: #808000; text-decoration-color: #808000\">id</span>=<span style=\"color: #008000; text-decoration-color: #008000\">'ou-rkp6-vq6m3h5y'</span>,\n        <span style=\"color: #808000; text-decoration-color: #808000\">arn</span>=<span style=\"color: #008000; text-decoration-color: #008000\">'arn:aws:organizations::111111111111:ou/o-igflpr8b78/ou-rkp6-vq6m3h5y'</span>,\n        <span style=\"color: #808000; text-decoration-color: #808000\">name</span>=<span style=\"color: #008000; text-decoration-color: #008000\">'app'</span>,\n        <span style=\"color: #808000; text-decoration-color: #808000\">root_id</span>=<span style=\"color: #008000; text-decoration-color: #008000\">'r-rkp6'</span>\n    <span style=\"font-weight: bold\">)</span>,\n    <span style=\"color: #800080; text-decoration-color: #800080; font-weight: bold\">OrganizationalUnit</span><span style=\"font-weight: bold\">(</span>\n        <span style=\"color: #808000; text-decoration-color: #808000\">id</span>=<span style=\"color: #008000; text-decoration-color: #008000\">'ou-rkp6-cxgi4leg'</span>,\n        <span style=\"color: #808000; text-decoration-color: #808000\">arn</span>=<span style=\"color: #008000; text-decoration-color: #008000\">'arn:aws:organizations::111111111111:ou/o-igflpr8b78/ou-rkp6-cxgi4leg'</span>,\n        <span style=\"color: #808000; text-decoration-color: #808000\">name</span>=<span style=\"color: #008000; text-decoration-color: #008000\">'infra'</span>,\n        <span style=\"color: #808000; text-decoration-color: #808000\">root_id</span>=<span style=\"color: #008000; text-decoration-color: #008000\">'r-rkp6'</span>\n    <span style=\"font-weight: bold\">)</span>,\n    <span style=\"color: #800080; text-decoration-color: #800080; font-weight: bold\">OrganizationalUnit</span><span style=\"font-weight: bold\">(</span>\n        <span style=\"color: #808000; text-decoration-color: #808000\">id</span>=<span style=\"color: #008000; text-decoration-color: #008000\">'ou-rkp6-r7cuoq1v'</span>,\n        <span style=\"color: #808000; text-decoration-color: #808000\">arn</span>=<span style=\"color: #008000; text-decoration-color: #008000\">'arn:aws:organizations::111111111111:ou/o-igflpr8b78/ou-rkp6-r7cuoq1v'</span>,\n        <span style=\"color: #808000; text-decoration-color: #808000\">name</span>=<span style=\"color: #008000; text-decoration-color: #008000\">'sandbox'</span>,\n        <span style=\"color: #808000; text-decoration-color: #808000\">root_id</span>=<span style=\"color: #008000; text-decoration-color: #008000\">'r-rkp6'</span>\n    <span style=\"font-weight: bold\">)</span>,\n    <span style=\"color: #800080; text-decoration-color: #800080; font-weight: bold\">OrganizationalUnit</span><span style=\"font-weight: bold\">(</span>\n        <span style=\"color: #808000; text-decoration-color: #808000\">id</span>=<span style=\"color: #008000; text-decoration-color: #008000\">'ou-rkp6-s4uirmja'</span>,\n        <span style=\"color: #808000; text-decoration-color: #808000\">arn</span>=<span style=\"color: #008000; text-decoration-color: #008000\">'arn:aws:organizations::111111111111:ou/o-igflpr8b78/ou-rkp6-s4uirmja'</span>,\n        <span style=\"color: #808000; text-decoration-color: #808000\">name</span>=<span style=\"color: #008000; text-decoration-color: #008000\">'ml'</span>,\n        <span style=\"color: #808000; text-decoration-color: #808000\">root_id</span>=<span style=\"color: #008000; text-decoration-color: #008000\">'r-rkp6'</span>\n    <span style=\"font-weight: bold\">)</span>\n<span style=\"font-weight: bold\">]</span>\n</pre>\n"
     },
     "metadata": {},
     "output_type": "display_data"
    }
   ],
   "source": [
    "# You can access the top level organizational units\n",
    "rprint(org_struct.root.org_units)"
   ],
   "metadata": {
    "collapsed": false,
    "pycharm": {
     "name": "#%%\n"
    }
   }
  },
  {
   "cell_type": "code",
   "execution_count": 7,
   "outputs": [
    {
     "data": {
      "text/plain": "\u001B[1m[\u001B[0m\n    \u001B[1;35mAccount\u001B[0m\u001B[1m(\u001B[0m\n        \u001B[33mid\u001B[0m=\u001B[32m'222222222222'\u001B[0m,\n        \u001B[33marn\u001B[0m=\u001B[32m'arn:aws:organizations::111111111111:account/o-igflpr8b78/222222222222'\u001B[0m,\n        \u001B[33mname\u001B[0m=\u001B[32m'my-org-app-dev'\u001B[0m,\n        \u001B[33memail\u001B[0m=\u001B[32m'my.name+my-org-app-dev@mymail.com'\u001B[0m,\n        \u001B[33mstatus\u001B[0m=\u001B[32m'ACTIVE'\u001B[0m,\n        \u001B[33mjoined_method\u001B[0m=\u001B[32m'INVITED'\u001B[0m,\n        \u001B[33mjoined_timestamp\u001B[0m=\u001B[1;35mdatetime\u001B[0m\u001B[1;35m.datetime\u001B[0m\u001B[1m(\u001B[0m\u001B[1;36m2023\u001B[0m, \u001B[1;36m3\u001B[0m, \u001B[1;36m6\u001B[0m, \u001B[1;36m14\u001B[0m, \u001B[1;36m10\u001B[0m, \u001B[1;36m55\u001B[0m, \u001B[1;36m461000\u001B[0m, \u001B[33mtzinfo\u001B[0m=\u001B[1;35mtzlocal\u001B[0m\u001B[1m(\u001B[0m\u001B[1m)\u001B[0m\u001B[1m)\u001B[0m,\n        \u001B[33mroot_id\u001B[0m=\u001B[32m'r-rkp6'\u001B[0m\n    \u001B[1m)\u001B[0m,\n    \u001B[1;35mAccount\u001B[0m\u001B[1m(\u001B[0m\n        \u001B[33mid\u001B[0m=\u001B[32m'333333333333'\u001B[0m,\n        \u001B[33marn\u001B[0m=\u001B[32m'arn:aws:organizations::111111111111:account/o-igflpr8b78/333333333333'\u001B[0m,\n        \u001B[33mname\u001B[0m=\u001B[32m'my-org-infra'\u001B[0m,\n        \u001B[33memail\u001B[0m=\u001B[32m'my.name+my-org-infra@mymail.com'\u001B[0m,\n        \u001B[33mstatus\u001B[0m=\u001B[32m'ACTIVE'\u001B[0m,\n        \u001B[33mjoined_method\u001B[0m=\u001B[32m'INVITED'\u001B[0m,\n        \u001B[33mjoined_timestamp\u001B[0m=\u001B[1;35mdatetime\u001B[0m\u001B[1;35m.datetime\u001B[0m\u001B[1m(\u001B[0m\u001B[1;36m2023\u001B[0m, \u001B[1;36m3\u001B[0m, \u001B[1;36m7\u001B[0m, \u001B[1;36m23\u001B[0m, \u001B[1;36m26\u001B[0m, \u001B[1;36m48\u001B[0m, \u001B[1;36m257000\u001B[0m, \u001B[33mtzinfo\u001B[0m=\u001B[1;35mtzlocal\u001B[0m\u001B[1m(\u001B[0m\u001B[1m)\u001B[0m\u001B[1m)\u001B[0m,\n        \u001B[33mroot_id\u001B[0m=\u001B[32m'r-rkp6'\u001B[0m\n    \u001B[1m)\u001B[0m,\n    \u001B[1;35mAccount\u001B[0m\u001B[1m(\u001B[0m\n        \u001B[33mid\u001B[0m=\u001B[32m'444444444444'\u001B[0m,\n        \u001B[33marn\u001B[0m=\u001B[32m'arn:aws:organizations::111111111111:account/o-igflpr8b78/444444444444'\u001B[0m,\n        \u001B[33mname\u001B[0m=\u001B[32m'my-org-ml-dev'\u001B[0m,\n        \u001B[33memail\u001B[0m=\u001B[32m'my.name+my-org-ml-dev@mymail.com'\u001B[0m,\n        \u001B[33mstatus\u001B[0m=\u001B[32m'ACTIVE'\u001B[0m,\n        \u001B[33mjoined_method\u001B[0m=\u001B[32m'INVITED'\u001B[0m,\n        \u001B[33mjoined_timestamp\u001B[0m=\u001B[1;35mdatetime\u001B[0m\u001B[1;35m.datetime\u001B[0m\u001B[1m(\u001B[0m\u001B[1;36m2023\u001B[0m, \u001B[1;36m3\u001B[0m, \u001B[1;36m5\u001B[0m, \u001B[1;36m23\u001B[0m, \u001B[1;36m10\u001B[0m, \u001B[1;36m17\u001B[0m, \u001B[1;36m816000\u001B[0m, \u001B[33mtzinfo\u001B[0m=\u001B[1;35mtzlocal\u001B[0m\u001B[1m(\u001B[0m\u001B[1m)\u001B[0m\u001B[1m)\u001B[0m,\n        \u001B[33mroot_id\u001B[0m=\u001B[32m'r-rkp6'\u001B[0m\n    \u001B[1m)\u001B[0m,\n    \u001B[1;35mAccount\u001B[0m\u001B[1m(\u001B[0m\n        \u001B[33mid\u001B[0m=\u001B[32m'555555555555'\u001B[0m,\n        \u001B[33marn\u001B[0m=\u001B[32m'arn:aws:organizations::111111111111:account/o-igflpr8b78/555555555555'\u001B[0m,\n        \u001B[33mname\u001B[0m=\u001B[32m'my-org-ml-staging'\u001B[0m,\n        \u001B[33memail\u001B[0m=\u001B[32m'my.name+my-org-ml-staging@mymail.com'\u001B[0m,\n        \u001B[33mstatus\u001B[0m=\u001B[32m'ACTIVE'\u001B[0m,\n        \u001B[33mjoined_method\u001B[0m=\u001B[32m'INVITED'\u001B[0m,\n        \u001B[33mjoined_timestamp\u001B[0m=\u001B[1;35mdatetime\u001B[0m\u001B[1;35m.datetime\u001B[0m\u001B[1m(\u001B[0m\u001B[1;36m2023\u001B[0m, \u001B[1;36m3\u001B[0m, \u001B[1;36m6\u001B[0m, \u001B[1;36m10\u001B[0m, \u001B[1;36m46\u001B[0m, \u001B[1;36m34\u001B[0m, \u001B[1;36m947000\u001B[0m, \u001B[33mtzinfo\u001B[0m=\u001B[1;35mtzlocal\u001B[0m\u001B[1m(\u001B[0m\u001B[1m)\u001B[0m\u001B[1m)\u001B[0m,\n        \u001B[33mroot_id\u001B[0m=\u001B[32m'r-rkp6'\u001B[0m\n    \u001B[1m)\u001B[0m,\n    \u001B[1;35mAccount\u001B[0m\u001B[1m(\u001B[0m\n        \u001B[33mid\u001B[0m=\u001B[32m'666666666666'\u001B[0m,\n        \u001B[33marn\u001B[0m=\u001B[32m'arn:aws:organizations::111111111111:account/o-igflpr8b78/666666666666'\u001B[0m,\n        \u001B[33mname\u001B[0m=\u001B[32m'my-org-ml-prod'\u001B[0m,\n        \u001B[33memail\u001B[0m=\u001B[32m'my.name+my-org-ml-prod@mymail.com'\u001B[0m,\n        \u001B[33mstatus\u001B[0m=\u001B[32m'ACTIVE'\u001B[0m,\n        \u001B[33mjoined_method\u001B[0m=\u001B[32m'INVITED'\u001B[0m,\n        \u001B[33mjoined_timestamp\u001B[0m=\u001B[1;35mdatetime\u001B[0m\u001B[1;35m.datetime\u001B[0m\u001B[1m(\u001B[0m\u001B[1;36m2023\u001B[0m, \u001B[1;36m3\u001B[0m, \u001B[1;36m6\u001B[0m, \u001B[1;36m10\u001B[0m, \u001B[1;36m46\u001B[0m, \u001B[1;36m54\u001B[0m, \u001B[1;36m519000\u001B[0m, \u001B[33mtzinfo\u001B[0m=\u001B[1;35mtzlocal\u001B[0m\u001B[1m(\u001B[0m\u001B[1m)\u001B[0m\u001B[1m)\u001B[0m,\n        \u001B[33mroot_id\u001B[0m=\u001B[32m'r-rkp6'\u001B[0m\n    \u001B[1m)\u001B[0m,\n    \u001B[1;35mAccount\u001B[0m\u001B[1m(\u001B[0m\n        \u001B[33mid\u001B[0m=\u001B[32m'111111111111'\u001B[0m,\n        \u001B[33marn\u001B[0m=\u001B[32m'arn:aws:organizations::111111111111:account/o-igflpr8b78/111111111111'\u001B[0m,\n        \u001B[33mname\u001B[0m=\u001B[32m'my-org-root'\u001B[0m,\n        \u001B[33memail\u001B[0m=\u001B[32m'my.name+my-org-root@mymail.com'\u001B[0m,\n        \u001B[33mstatus\u001B[0m=\u001B[32m'ACTIVE'\u001B[0m,\n        \u001B[33mjoined_method\u001B[0m=\u001B[32m'INVITED'\u001B[0m,\n        \u001B[33mjoined_timestamp\u001B[0m=\u001B[1;35mdatetime\u001B[0m\u001B[1;35m.datetime\u001B[0m\u001B[1m(\u001B[0m\u001B[1;36m2023\u001B[0m, \u001B[1;36m3\u001B[0m, \u001B[1;36m5\u001B[0m, \u001B[1;36m15\u001B[0m, \u001B[1;36m52\u001B[0m, \u001B[1;36m58\u001B[0m, \u001B[1;36m47000\u001B[0m, \u001B[33mtzinfo\u001B[0m=\u001B[1;35mtzlocal\u001B[0m\u001B[1m(\u001B[0m\u001B[1m)\u001B[0m\u001B[1m)\u001B[0m,\n        \u001B[33mroot_id\u001B[0m=\u001B[32m'r-rkp6'\u001B[0m\n    \u001B[1m)\u001B[0m\n\u001B[1m]\u001B[0m\n",
      "text/html": "<pre style=\"white-space:pre;overflow-x:auto;line-height:normal;font-family:Menlo,'DejaVu Sans Mono',consolas,'Courier New',monospace\"><span style=\"font-weight: bold\">[</span>\n    <span style=\"color: #800080; text-decoration-color: #800080; font-weight: bold\">Account</span><span style=\"font-weight: bold\">(</span>\n        <span style=\"color: #808000; text-decoration-color: #808000\">id</span>=<span style=\"color: #008000; text-decoration-color: #008000\">'222222222222'</span>,\n        <span style=\"color: #808000; text-decoration-color: #808000\">arn</span>=<span style=\"color: #008000; text-decoration-color: #008000\">'arn:aws:organizations::111111111111:account/o-igflpr8b78/222222222222'</span>,\n        <span style=\"color: #808000; text-decoration-color: #808000\">name</span>=<span style=\"color: #008000; text-decoration-color: #008000\">'my-org-app-dev'</span>,\n        <span style=\"color: #808000; text-decoration-color: #808000\">email</span>=<span style=\"color: #008000; text-decoration-color: #008000\">'my.name+my-org-app-dev@mymail.com'</span>,\n        <span style=\"color: #808000; text-decoration-color: #808000\">status</span>=<span style=\"color: #008000; text-decoration-color: #008000\">'ACTIVE'</span>,\n        <span style=\"color: #808000; text-decoration-color: #808000\">joined_method</span>=<span style=\"color: #008000; text-decoration-color: #008000\">'INVITED'</span>,\n        <span style=\"color: #808000; text-decoration-color: #808000\">joined_timestamp</span>=<span style=\"color: #800080; text-decoration-color: #800080; font-weight: bold\">datetime</span><span style=\"color: #800080; text-decoration-color: #800080; font-weight: bold\">.datetime</span><span style=\"font-weight: bold\">(</span><span style=\"color: #008080; text-decoration-color: #008080; font-weight: bold\">2023</span>, <span style=\"color: #008080; text-decoration-color: #008080; font-weight: bold\">3</span>, <span style=\"color: #008080; text-decoration-color: #008080; font-weight: bold\">6</span>, <span style=\"color: #008080; text-decoration-color: #008080; font-weight: bold\">14</span>, <span style=\"color: #008080; text-decoration-color: #008080; font-weight: bold\">10</span>, <span style=\"color: #008080; text-decoration-color: #008080; font-weight: bold\">55</span>, <span style=\"color: #008080; text-decoration-color: #008080; font-weight: bold\">461000</span>, <span style=\"color: #808000; text-decoration-color: #808000\">tzinfo</span>=<span style=\"color: #800080; text-decoration-color: #800080; font-weight: bold\">tzlocal</span><span style=\"font-weight: bold\">())</span>,\n        <span style=\"color: #808000; text-decoration-color: #808000\">root_id</span>=<span style=\"color: #008000; text-decoration-color: #008000\">'r-rkp6'</span>\n    <span style=\"font-weight: bold\">)</span>,\n    <span style=\"color: #800080; text-decoration-color: #800080; font-weight: bold\">Account</span><span style=\"font-weight: bold\">(</span>\n        <span style=\"color: #808000; text-decoration-color: #808000\">id</span>=<span style=\"color: #008000; text-decoration-color: #008000\">'333333333333'</span>,\n        <span style=\"color: #808000; text-decoration-color: #808000\">arn</span>=<span style=\"color: #008000; text-decoration-color: #008000\">'arn:aws:organizations::111111111111:account/o-igflpr8b78/333333333333'</span>,\n        <span style=\"color: #808000; text-decoration-color: #808000\">name</span>=<span style=\"color: #008000; text-decoration-color: #008000\">'my-org-infra'</span>,\n        <span style=\"color: #808000; text-decoration-color: #808000\">email</span>=<span style=\"color: #008000; text-decoration-color: #008000\">'my.name+my-org-infra@mymail.com'</span>,\n        <span style=\"color: #808000; text-decoration-color: #808000\">status</span>=<span style=\"color: #008000; text-decoration-color: #008000\">'ACTIVE'</span>,\n        <span style=\"color: #808000; text-decoration-color: #808000\">joined_method</span>=<span style=\"color: #008000; text-decoration-color: #008000\">'INVITED'</span>,\n        <span style=\"color: #808000; text-decoration-color: #808000\">joined_timestamp</span>=<span style=\"color: #800080; text-decoration-color: #800080; font-weight: bold\">datetime</span><span style=\"color: #800080; text-decoration-color: #800080; font-weight: bold\">.datetime</span><span style=\"font-weight: bold\">(</span><span style=\"color: #008080; text-decoration-color: #008080; font-weight: bold\">2023</span>, <span style=\"color: #008080; text-decoration-color: #008080; font-weight: bold\">3</span>, <span style=\"color: #008080; text-decoration-color: #008080; font-weight: bold\">7</span>, <span style=\"color: #008080; text-decoration-color: #008080; font-weight: bold\">23</span>, <span style=\"color: #008080; text-decoration-color: #008080; font-weight: bold\">26</span>, <span style=\"color: #008080; text-decoration-color: #008080; font-weight: bold\">48</span>, <span style=\"color: #008080; text-decoration-color: #008080; font-weight: bold\">257000</span>, <span style=\"color: #808000; text-decoration-color: #808000\">tzinfo</span>=<span style=\"color: #800080; text-decoration-color: #800080; font-weight: bold\">tzlocal</span><span style=\"font-weight: bold\">())</span>,\n        <span style=\"color: #808000; text-decoration-color: #808000\">root_id</span>=<span style=\"color: #008000; text-decoration-color: #008000\">'r-rkp6'</span>\n    <span style=\"font-weight: bold\">)</span>,\n    <span style=\"color: #800080; text-decoration-color: #800080; font-weight: bold\">Account</span><span style=\"font-weight: bold\">(</span>\n        <span style=\"color: #808000; text-decoration-color: #808000\">id</span>=<span style=\"color: #008000; text-decoration-color: #008000\">'444444444444'</span>,\n        <span style=\"color: #808000; text-decoration-color: #808000\">arn</span>=<span style=\"color: #008000; text-decoration-color: #008000\">'arn:aws:organizations::111111111111:account/o-igflpr8b78/444444444444'</span>,\n        <span style=\"color: #808000; text-decoration-color: #808000\">name</span>=<span style=\"color: #008000; text-decoration-color: #008000\">'my-org-ml-dev'</span>,\n        <span style=\"color: #808000; text-decoration-color: #808000\">email</span>=<span style=\"color: #008000; text-decoration-color: #008000\">'my.name+my-org-ml-dev@mymail.com'</span>,\n        <span style=\"color: #808000; text-decoration-color: #808000\">status</span>=<span style=\"color: #008000; text-decoration-color: #008000\">'ACTIVE'</span>,\n        <span style=\"color: #808000; text-decoration-color: #808000\">joined_method</span>=<span style=\"color: #008000; text-decoration-color: #008000\">'INVITED'</span>,\n        <span style=\"color: #808000; text-decoration-color: #808000\">joined_timestamp</span>=<span style=\"color: #800080; text-decoration-color: #800080; font-weight: bold\">datetime</span><span style=\"color: #800080; text-decoration-color: #800080; font-weight: bold\">.datetime</span><span style=\"font-weight: bold\">(</span><span style=\"color: #008080; text-decoration-color: #008080; font-weight: bold\">2023</span>, <span style=\"color: #008080; text-decoration-color: #008080; font-weight: bold\">3</span>, <span style=\"color: #008080; text-decoration-color: #008080; font-weight: bold\">5</span>, <span style=\"color: #008080; text-decoration-color: #008080; font-weight: bold\">23</span>, <span style=\"color: #008080; text-decoration-color: #008080; font-weight: bold\">10</span>, <span style=\"color: #008080; text-decoration-color: #008080; font-weight: bold\">17</span>, <span style=\"color: #008080; text-decoration-color: #008080; font-weight: bold\">816000</span>, <span style=\"color: #808000; text-decoration-color: #808000\">tzinfo</span>=<span style=\"color: #800080; text-decoration-color: #800080; font-weight: bold\">tzlocal</span><span style=\"font-weight: bold\">())</span>,\n        <span style=\"color: #808000; text-decoration-color: #808000\">root_id</span>=<span style=\"color: #008000; text-decoration-color: #008000\">'r-rkp6'</span>\n    <span style=\"font-weight: bold\">)</span>,\n    <span style=\"color: #800080; text-decoration-color: #800080; font-weight: bold\">Account</span><span style=\"font-weight: bold\">(</span>\n        <span style=\"color: #808000; text-decoration-color: #808000\">id</span>=<span style=\"color: #008000; text-decoration-color: #008000\">'555555555555'</span>,\n        <span style=\"color: #808000; text-decoration-color: #808000\">arn</span>=<span style=\"color: #008000; text-decoration-color: #008000\">'arn:aws:organizations::111111111111:account/o-igflpr8b78/555555555555'</span>,\n        <span style=\"color: #808000; text-decoration-color: #808000\">name</span>=<span style=\"color: #008000; text-decoration-color: #008000\">'my-org-ml-staging'</span>,\n        <span style=\"color: #808000; text-decoration-color: #808000\">email</span>=<span style=\"color: #008000; text-decoration-color: #008000\">'my.name+my-org-ml-staging@mymail.com'</span>,\n        <span style=\"color: #808000; text-decoration-color: #808000\">status</span>=<span style=\"color: #008000; text-decoration-color: #008000\">'ACTIVE'</span>,\n        <span style=\"color: #808000; text-decoration-color: #808000\">joined_method</span>=<span style=\"color: #008000; text-decoration-color: #008000\">'INVITED'</span>,\n        <span style=\"color: #808000; text-decoration-color: #808000\">joined_timestamp</span>=<span style=\"color: #800080; text-decoration-color: #800080; font-weight: bold\">datetime</span><span style=\"color: #800080; text-decoration-color: #800080; font-weight: bold\">.datetime</span><span style=\"font-weight: bold\">(</span><span style=\"color: #008080; text-decoration-color: #008080; font-weight: bold\">2023</span>, <span style=\"color: #008080; text-decoration-color: #008080; font-weight: bold\">3</span>, <span style=\"color: #008080; text-decoration-color: #008080; font-weight: bold\">6</span>, <span style=\"color: #008080; text-decoration-color: #008080; font-weight: bold\">10</span>, <span style=\"color: #008080; text-decoration-color: #008080; font-weight: bold\">46</span>, <span style=\"color: #008080; text-decoration-color: #008080; font-weight: bold\">34</span>, <span style=\"color: #008080; text-decoration-color: #008080; font-weight: bold\">947000</span>, <span style=\"color: #808000; text-decoration-color: #808000\">tzinfo</span>=<span style=\"color: #800080; text-decoration-color: #800080; font-weight: bold\">tzlocal</span><span style=\"font-weight: bold\">())</span>,\n        <span style=\"color: #808000; text-decoration-color: #808000\">root_id</span>=<span style=\"color: #008000; text-decoration-color: #008000\">'r-rkp6'</span>\n    <span style=\"font-weight: bold\">)</span>,\n    <span style=\"color: #800080; text-decoration-color: #800080; font-weight: bold\">Account</span><span style=\"font-weight: bold\">(</span>\n        <span style=\"color: #808000; text-decoration-color: #808000\">id</span>=<span style=\"color: #008000; text-decoration-color: #008000\">'666666666666'</span>,\n        <span style=\"color: #808000; text-decoration-color: #808000\">arn</span>=<span style=\"color: #008000; text-decoration-color: #008000\">'arn:aws:organizations::111111111111:account/o-igflpr8b78/666666666666'</span>,\n        <span style=\"color: #808000; text-decoration-color: #808000\">name</span>=<span style=\"color: #008000; text-decoration-color: #008000\">'my-org-ml-prod'</span>,\n        <span style=\"color: #808000; text-decoration-color: #808000\">email</span>=<span style=\"color: #008000; text-decoration-color: #008000\">'my.name+my-org-ml-prod@mymail.com'</span>,\n        <span style=\"color: #808000; text-decoration-color: #808000\">status</span>=<span style=\"color: #008000; text-decoration-color: #008000\">'ACTIVE'</span>,\n        <span style=\"color: #808000; text-decoration-color: #808000\">joined_method</span>=<span style=\"color: #008000; text-decoration-color: #008000\">'INVITED'</span>,\n        <span style=\"color: #808000; text-decoration-color: #808000\">joined_timestamp</span>=<span style=\"color: #800080; text-decoration-color: #800080; font-weight: bold\">datetime</span><span style=\"color: #800080; text-decoration-color: #800080; font-weight: bold\">.datetime</span><span style=\"font-weight: bold\">(</span><span style=\"color: #008080; text-decoration-color: #008080; font-weight: bold\">2023</span>, <span style=\"color: #008080; text-decoration-color: #008080; font-weight: bold\">3</span>, <span style=\"color: #008080; text-decoration-color: #008080; font-weight: bold\">6</span>, <span style=\"color: #008080; text-decoration-color: #008080; font-weight: bold\">10</span>, <span style=\"color: #008080; text-decoration-color: #008080; font-weight: bold\">46</span>, <span style=\"color: #008080; text-decoration-color: #008080; font-weight: bold\">54</span>, <span style=\"color: #008080; text-decoration-color: #008080; font-weight: bold\">519000</span>, <span style=\"color: #808000; text-decoration-color: #808000\">tzinfo</span>=<span style=\"color: #800080; text-decoration-color: #800080; font-weight: bold\">tzlocal</span><span style=\"font-weight: bold\">())</span>,\n        <span style=\"color: #808000; text-decoration-color: #808000\">root_id</span>=<span style=\"color: #008000; text-decoration-color: #008000\">'r-rkp6'</span>\n    <span style=\"font-weight: bold\">)</span>,\n    <span style=\"color: #800080; text-decoration-color: #800080; font-weight: bold\">Account</span><span style=\"font-weight: bold\">(</span>\n        <span style=\"color: #808000; text-decoration-color: #808000\">id</span>=<span style=\"color: #008000; text-decoration-color: #008000\">'111111111111'</span>,\n        <span style=\"color: #808000; text-decoration-color: #808000\">arn</span>=<span style=\"color: #008000; text-decoration-color: #008000\">'arn:aws:organizations::111111111111:account/o-igflpr8b78/111111111111'</span>,\n        <span style=\"color: #808000; text-decoration-color: #808000\">name</span>=<span style=\"color: #008000; text-decoration-color: #008000\">'my-org-root'</span>,\n        <span style=\"color: #808000; text-decoration-color: #808000\">email</span>=<span style=\"color: #008000; text-decoration-color: #008000\">'my.name+my-org-root@mymail.com'</span>,\n        <span style=\"color: #808000; text-decoration-color: #808000\">status</span>=<span style=\"color: #008000; text-decoration-color: #008000\">'ACTIVE'</span>,\n        <span style=\"color: #808000; text-decoration-color: #808000\">joined_method</span>=<span style=\"color: #008000; text-decoration-color: #008000\">'INVITED'</span>,\n        <span style=\"color: #808000; text-decoration-color: #808000\">joined_timestamp</span>=<span style=\"color: #800080; text-decoration-color: #800080; font-weight: bold\">datetime</span><span style=\"color: #800080; text-decoration-color: #800080; font-weight: bold\">.datetime</span><span style=\"font-weight: bold\">(</span><span style=\"color: #008080; text-decoration-color: #008080; font-weight: bold\">2023</span>, <span style=\"color: #008080; text-decoration-color: #008080; font-weight: bold\">3</span>, <span style=\"color: #008080; text-decoration-color: #008080; font-weight: bold\">5</span>, <span style=\"color: #008080; text-decoration-color: #008080; font-weight: bold\">15</span>, <span style=\"color: #008080; text-decoration-color: #008080; font-weight: bold\">52</span>, <span style=\"color: #008080; text-decoration-color: #008080; font-weight: bold\">58</span>, <span style=\"color: #008080; text-decoration-color: #008080; font-weight: bold\">47000</span>, <span style=\"color: #808000; text-decoration-color: #808000\">tzinfo</span>=<span style=\"color: #800080; text-decoration-color: #800080; font-weight: bold\">tzlocal</span><span style=\"font-weight: bold\">())</span>,\n        <span style=\"color: #808000; text-decoration-color: #808000\">root_id</span>=<span style=\"color: #008000; text-decoration-color: #008000\">'r-rkp6'</span>\n    <span style=\"font-weight: bold\">)</span>\n<span style=\"font-weight: bold\">]</span>\n</pre>\n"
     },
     "metadata": {},
     "output_type": "display_data"
    }
   ],
   "source": [
    "# You can access all accounts recursively\n",
    "rprint(org_struct.root.all_accounts)"
   ],
   "metadata": {
    "collapsed": false,
    "pycharm": {
     "name": "#%%\n"
    }
   }
  },
  {
   "cell_type": "code",
   "execution_count": 8,
   "outputs": [
    {
     "data": {
      "text/plain": "\u001B[1m[\u001B[0m\n    \u001B[1;35mOrganizationalUnit\u001B[0m\u001B[1m(\u001B[0m\n        \u001B[33mid\u001B[0m=\u001B[32m'ou-rkp6-vq6m3h5y'\u001B[0m,\n        \u001B[33marn\u001B[0m=\u001B[32m'arn:aws:organizations::111111111111:ou/o-igflpr8b78/ou-rkp6-vq6m3h5y'\u001B[0m,\n        \u001B[33mname\u001B[0m=\u001B[32m'app'\u001B[0m,\n        \u001B[33mroot_id\u001B[0m=\u001B[32m'r-rkp6'\u001B[0m\n    \u001B[1m)\u001B[0m,\n    \u001B[1;35mOrganizationalUnit\u001B[0m\u001B[1m(\u001B[0m\n        \u001B[33mid\u001B[0m=\u001B[32m'ou-rkp6-cxgi4leg'\u001B[0m,\n        \u001B[33marn\u001B[0m=\u001B[32m'arn:aws:organizations::111111111111:ou/o-igflpr8b78/ou-rkp6-cxgi4leg'\u001B[0m,\n        \u001B[33mname\u001B[0m=\u001B[32m'infra'\u001B[0m,\n        \u001B[33mroot_id\u001B[0m=\u001B[32m'r-rkp6'\u001B[0m\n    \u001B[1m)\u001B[0m,\n    \u001B[1;35mOrganizationalUnit\u001B[0m\u001B[1m(\u001B[0m\n        \u001B[33mid\u001B[0m=\u001B[32m'ou-rkp6-r7cuoq1v'\u001B[0m,\n        \u001B[33marn\u001B[0m=\u001B[32m'arn:aws:organizations::111111111111:ou/o-igflpr8b78/ou-rkp6-r7cuoq1v'\u001B[0m,\n        \u001B[33mname\u001B[0m=\u001B[32m'sandbox'\u001B[0m,\n        \u001B[33mroot_id\u001B[0m=\u001B[32m'r-rkp6'\u001B[0m\n    \u001B[1m)\u001B[0m,\n    \u001B[1;35mOrganizationalUnit\u001B[0m\u001B[1m(\u001B[0m\n        \u001B[33mid\u001B[0m=\u001B[32m'ou-rkp6-s4uirmja'\u001B[0m,\n        \u001B[33marn\u001B[0m=\u001B[32m'arn:aws:organizations::111111111111:ou/o-igflpr8b78/ou-rkp6-s4uirmja'\u001B[0m,\n        \u001B[33mname\u001B[0m=\u001B[32m'ml'\u001B[0m,\n        \u001B[33mroot_id\u001B[0m=\u001B[32m'r-rkp6'\u001B[0m\n    \u001B[1m)\u001B[0m\n\u001B[1m]\u001B[0m\n",
      "text/html": "<pre style=\"white-space:pre;overflow-x:auto;line-height:normal;font-family:Menlo,'DejaVu Sans Mono',consolas,'Courier New',monospace\"><span style=\"font-weight: bold\">[</span>\n    <span style=\"color: #800080; text-decoration-color: #800080; font-weight: bold\">OrganizationalUnit</span><span style=\"font-weight: bold\">(</span>\n        <span style=\"color: #808000; text-decoration-color: #808000\">id</span>=<span style=\"color: #008000; text-decoration-color: #008000\">'ou-rkp6-vq6m3h5y'</span>,\n        <span style=\"color: #808000; text-decoration-color: #808000\">arn</span>=<span style=\"color: #008000; text-decoration-color: #008000\">'arn:aws:organizations::111111111111:ou/o-igflpr8b78/ou-rkp6-vq6m3h5y'</span>,\n        <span style=\"color: #808000; text-decoration-color: #808000\">name</span>=<span style=\"color: #008000; text-decoration-color: #008000\">'app'</span>,\n        <span style=\"color: #808000; text-decoration-color: #808000\">root_id</span>=<span style=\"color: #008000; text-decoration-color: #008000\">'r-rkp6'</span>\n    <span style=\"font-weight: bold\">)</span>,\n    <span style=\"color: #800080; text-decoration-color: #800080; font-weight: bold\">OrganizationalUnit</span><span style=\"font-weight: bold\">(</span>\n        <span style=\"color: #808000; text-decoration-color: #808000\">id</span>=<span style=\"color: #008000; text-decoration-color: #008000\">'ou-rkp6-cxgi4leg'</span>,\n        <span style=\"color: #808000; text-decoration-color: #808000\">arn</span>=<span style=\"color: #008000; text-decoration-color: #008000\">'arn:aws:organizations::111111111111:ou/o-igflpr8b78/ou-rkp6-cxgi4leg'</span>,\n        <span style=\"color: #808000; text-decoration-color: #808000\">name</span>=<span style=\"color: #008000; text-decoration-color: #008000\">'infra'</span>,\n        <span style=\"color: #808000; text-decoration-color: #808000\">root_id</span>=<span style=\"color: #008000; text-decoration-color: #008000\">'r-rkp6'</span>\n    <span style=\"font-weight: bold\">)</span>,\n    <span style=\"color: #800080; text-decoration-color: #800080; font-weight: bold\">OrganizationalUnit</span><span style=\"font-weight: bold\">(</span>\n        <span style=\"color: #808000; text-decoration-color: #808000\">id</span>=<span style=\"color: #008000; text-decoration-color: #008000\">'ou-rkp6-r7cuoq1v'</span>,\n        <span style=\"color: #808000; text-decoration-color: #808000\">arn</span>=<span style=\"color: #008000; text-decoration-color: #008000\">'arn:aws:organizations::111111111111:ou/o-igflpr8b78/ou-rkp6-r7cuoq1v'</span>,\n        <span style=\"color: #808000; text-decoration-color: #808000\">name</span>=<span style=\"color: #008000; text-decoration-color: #008000\">'sandbox'</span>,\n        <span style=\"color: #808000; text-decoration-color: #808000\">root_id</span>=<span style=\"color: #008000; text-decoration-color: #008000\">'r-rkp6'</span>\n    <span style=\"font-weight: bold\">)</span>,\n    <span style=\"color: #800080; text-decoration-color: #800080; font-weight: bold\">OrganizationalUnit</span><span style=\"font-weight: bold\">(</span>\n        <span style=\"color: #808000; text-decoration-color: #808000\">id</span>=<span style=\"color: #008000; text-decoration-color: #008000\">'ou-rkp6-s4uirmja'</span>,\n        <span style=\"color: #808000; text-decoration-color: #808000\">arn</span>=<span style=\"color: #008000; text-decoration-color: #008000\">'arn:aws:organizations::111111111111:ou/o-igflpr8b78/ou-rkp6-s4uirmja'</span>,\n        <span style=\"color: #808000; text-decoration-color: #808000\">name</span>=<span style=\"color: #008000; text-decoration-color: #008000\">'ml'</span>,\n        <span style=\"color: #808000; text-decoration-color: #808000\">root_id</span>=<span style=\"color: #008000; text-decoration-color: #008000\">'r-rkp6'</span>\n    <span style=\"font-weight: bold\">)</span>\n<span style=\"font-weight: bold\">]</span>\n</pre>\n"
     },
     "metadata": {},
     "output_type": "display_data"
    }
   ],
   "source": [
    "# You can access all organizational units recursively\n",
    "rprint(org_struct.root.all_org_units)"
   ],
   "metadata": {
    "collapsed": false,
    "pycharm": {
     "name": "#%%\n"
    }
   }
  },
  {
   "cell_type": "code",
   "execution_count": 9,
   "outputs": [
    {
     "data": {
      "text/plain": "ml \u001B[1m(\u001B[0mOrgUnit \u001B[32m'ou-rkp6-s4uirmja'\u001B[0m\u001B[1m)\u001B[0m\n",
      "text/html": "<pre style=\"white-space:pre;overflow-x:auto;line-height:normal;font-family:Menlo,'DejaVu Sans Mono',consolas,'Courier New',monospace\">ml <span style=\"font-weight: bold\">(</span>OrgUnit <span style=\"color: #008000; text-decoration-color: #008000\">'ou-rkp6-s4uirmja'</span><span style=\"font-weight: bold\">)</span>\n</pre>\n"
     },
     "metadata": {},
     "output_type": "display_data"
    }
   ],
   "source": [
    "# You can get a node (account or org unit) by id\n",
    "# this is an org unit\n",
    "ou_ml = org_struct.get_node_by_id(\"ou-rkp6-s4uirmja\")\n",
    "rprint(ou_ml)"
   ],
   "metadata": {
    "collapsed": false,
    "pycharm": {
     "name": "#%%\n"
    }
   }
  },
  {
   "cell_type": "code",
   "execution_count": 10,
   "outputs": [
    {
     "data": {
      "text/plain": "ml \u001B[1m(\u001B[0mOrgUnit \u001B[32m'ou-rkp6-s4uirmja'\u001B[0m\u001B[1m)\u001B[0m\n",
      "text/html": "<pre style=\"white-space:pre;overflow-x:auto;line-height:normal;font-family:Menlo,'DejaVu Sans Mono',consolas,'Courier New',monospace\">ml <span style=\"font-weight: bold\">(</span>OrgUnit <span style=\"color: #008000; text-decoration-color: #008000\">'ou-rkp6-s4uirmja'</span><span style=\"font-weight: bold\">)</span>\n</pre>\n"
     },
     "metadata": {},
     "output_type": "display_data"
    }
   ],
   "source": [
    "# You can also get a node (account or org unit) by name\n",
    "ou_ml = org_struct.get_node_by_name(\"ml\")\n",
    "rprint(ou_ml)"
   ],
   "metadata": {
    "collapsed": false,
    "pycharm": {
     "name": "#%%\n"
    }
   }
  },
  {
   "cell_type": "code",
   "execution_count": 11,
   "outputs": [
    {
     "data": {
      "text/plain": "\u001B[1;35mOrganizationalUnit\u001B[0m\u001B[1m(\u001B[0m\n    \u001B[33mid\u001B[0m=\u001B[32m'ou-rkp6-s4uirmja'\u001B[0m,\n    \u001B[33marn\u001B[0m=\u001B[32m'arn:aws:organizations::111111111111:ou/o-igflpr8b78/ou-rkp6-s4uirmja'\u001B[0m,\n    \u001B[33mname\u001B[0m=\u001B[32m'ml'\u001B[0m,\n    \u001B[33mroot_id\u001B[0m=\u001B[32m'r-rkp6'\u001B[0m\n\u001B[1m)\u001B[0m\n",
      "text/html": "<pre style=\"white-space:pre;overflow-x:auto;line-height:normal;font-family:Menlo,'DejaVu Sans Mono',consolas,'Courier New',monospace\"><span style=\"color: #800080; text-decoration-color: #800080; font-weight: bold\">OrganizationalUnit</span><span style=\"font-weight: bold\">(</span>\n    <span style=\"color: #808000; text-decoration-color: #808000\">id</span>=<span style=\"color: #008000; text-decoration-color: #008000\">'ou-rkp6-s4uirmja'</span>,\n    <span style=\"color: #808000; text-decoration-color: #808000\">arn</span>=<span style=\"color: #008000; text-decoration-color: #008000\">'arn:aws:organizations::111111111111:ou/o-igflpr8b78/ou-rkp6-s4uirmja'</span>,\n    <span style=\"color: #808000; text-decoration-color: #808000\">name</span>=<span style=\"color: #008000; text-decoration-color: #008000\">'ml'</span>,\n    <span style=\"color: #808000; text-decoration-color: #808000\">root_id</span>=<span style=\"color: #008000; text-decoration-color: #008000\">'r-rkp6'</span>\n<span style=\"font-weight: bold\">)</span>\n</pre>\n"
     },
     "metadata": {},
     "output_type": "display_data"
    }
   ],
   "source": [
    "rprint(ou_ml.obj)"
   ],
   "metadata": {
    "collapsed": false,
    "pycharm": {
     "name": "#%%\n"
    }
   }
  },
  {
   "cell_type": "code",
   "execution_count": 16,
   "outputs": [
    {
     "data": {
      "text/plain": "\u001B[1m[\u001B[0m\n    \u001B[1;35mAccount\u001B[0m\u001B[1m(\u001B[0m\n        \u001B[33mid\u001B[0m=\u001B[32m'444444444444'\u001B[0m,\n        \u001B[33marn\u001B[0m=\u001B[32m'arn:aws:organizations::111111111111:account/o-igflpr8b78/444444444444'\u001B[0m,\n        \u001B[33mname\u001B[0m=\u001B[32m'my-org-ml-dev'\u001B[0m,\n        \u001B[33memail\u001B[0m=\u001B[32m'my.name+my-org-ml-dev@mymail.com'\u001B[0m,\n        \u001B[33mstatus\u001B[0m=\u001B[32m'ACTIVE'\u001B[0m,\n        \u001B[33mjoined_method\u001B[0m=\u001B[32m'INVITED'\u001B[0m,\n        \u001B[33mjoined_timestamp\u001B[0m=\u001B[1;35mdatetime\u001B[0m\u001B[1;35m.datetime\u001B[0m\u001B[1m(\u001B[0m\u001B[1;36m2023\u001B[0m, \u001B[1;36m3\u001B[0m, \u001B[1;36m5\u001B[0m, \u001B[1;36m23\u001B[0m, \u001B[1;36m10\u001B[0m, \u001B[1;36m17\u001B[0m, \u001B[1;36m816000\u001B[0m, \u001B[33mtzinfo\u001B[0m=\u001B[1;35mtzlocal\u001B[0m\u001B[1m(\u001B[0m\u001B[1m)\u001B[0m\u001B[1m)\u001B[0m,\n        \u001B[33mroot_id\u001B[0m=\u001B[32m'r-rkp6'\u001B[0m\n    \u001B[1m)\u001B[0m,\n    \u001B[1;35mAccount\u001B[0m\u001B[1m(\u001B[0m\n        \u001B[33mid\u001B[0m=\u001B[32m'555555555555'\u001B[0m,\n        \u001B[33marn\u001B[0m=\u001B[32m'arn:aws:organizations::111111111111:account/o-igflpr8b78/555555555555'\u001B[0m,\n        \u001B[33mname\u001B[0m=\u001B[32m'my-org-ml-staging'\u001B[0m,\n        \u001B[33memail\u001B[0m=\u001B[32m'my.name+my-org-ml-staging@mymail.com'\u001B[0m,\n        \u001B[33mstatus\u001B[0m=\u001B[32m'ACTIVE'\u001B[0m,\n        \u001B[33mjoined_method\u001B[0m=\u001B[32m'INVITED'\u001B[0m,\n        \u001B[33mjoined_timestamp\u001B[0m=\u001B[1;35mdatetime\u001B[0m\u001B[1;35m.datetime\u001B[0m\u001B[1m(\u001B[0m\u001B[1;36m2023\u001B[0m, \u001B[1;36m3\u001B[0m, \u001B[1;36m6\u001B[0m, \u001B[1;36m10\u001B[0m, \u001B[1;36m46\u001B[0m, \u001B[1;36m34\u001B[0m, \u001B[1;36m947000\u001B[0m, \u001B[33mtzinfo\u001B[0m=\u001B[1;35mtzlocal\u001B[0m\u001B[1m(\u001B[0m\u001B[1m)\u001B[0m\u001B[1m)\u001B[0m,\n        \u001B[33mroot_id\u001B[0m=\u001B[32m'r-rkp6'\u001B[0m\n    \u001B[1m)\u001B[0m,\n    \u001B[1;35mAccount\u001B[0m\u001B[1m(\u001B[0m\n        \u001B[33mid\u001B[0m=\u001B[32m'666666666666'\u001B[0m,\n        \u001B[33marn\u001B[0m=\u001B[32m'arn:aws:organizations::111111111111:account/o-igflpr8b78/666666666666'\u001B[0m,\n        \u001B[33mname\u001B[0m=\u001B[32m'my-org-ml-prod'\u001B[0m,\n        \u001B[33memail\u001B[0m=\u001B[32m'my.name+my-org-ml-prod@mymail.com'\u001B[0m,\n        \u001B[33mstatus\u001B[0m=\u001B[32m'ACTIVE'\u001B[0m,\n        \u001B[33mjoined_method\u001B[0m=\u001B[32m'INVITED'\u001B[0m,\n        \u001B[33mjoined_timestamp\u001B[0m=\u001B[1;35mdatetime\u001B[0m\u001B[1;35m.datetime\u001B[0m\u001B[1m(\u001B[0m\u001B[1;36m2023\u001B[0m, \u001B[1;36m3\u001B[0m, \u001B[1;36m6\u001B[0m, \u001B[1;36m10\u001B[0m, \u001B[1;36m46\u001B[0m, \u001B[1;36m54\u001B[0m, \u001B[1;36m519000\u001B[0m, \u001B[33mtzinfo\u001B[0m=\u001B[1;35mtzlocal\u001B[0m\u001B[1m(\u001B[0m\u001B[1m)\u001B[0m\u001B[1m)\u001B[0m,\n        \u001B[33mroot_id\u001B[0m=\u001B[32m'r-rkp6'\u001B[0m\n    \u001B[1m)\u001B[0m\n\u001B[1m]\u001B[0m\n",
      "text/html": "<pre style=\"white-space:pre;overflow-x:auto;line-height:normal;font-family:Menlo,'DejaVu Sans Mono',consolas,'Courier New',monospace\"><span style=\"font-weight: bold\">[</span>\n    <span style=\"color: #800080; text-decoration-color: #800080; font-weight: bold\">Account</span><span style=\"font-weight: bold\">(</span>\n        <span style=\"color: #808000; text-decoration-color: #808000\">id</span>=<span style=\"color: #008000; text-decoration-color: #008000\">'444444444444'</span>,\n        <span style=\"color: #808000; text-decoration-color: #808000\">arn</span>=<span style=\"color: #008000; text-decoration-color: #008000\">'arn:aws:organizations::111111111111:account/o-igflpr8b78/444444444444'</span>,\n        <span style=\"color: #808000; text-decoration-color: #808000\">name</span>=<span style=\"color: #008000; text-decoration-color: #008000\">'my-org-ml-dev'</span>,\n        <span style=\"color: #808000; text-decoration-color: #808000\">email</span>=<span style=\"color: #008000; text-decoration-color: #008000\">'my.name+my-org-ml-dev@mymail.com'</span>,\n        <span style=\"color: #808000; text-decoration-color: #808000\">status</span>=<span style=\"color: #008000; text-decoration-color: #008000\">'ACTIVE'</span>,\n        <span style=\"color: #808000; text-decoration-color: #808000\">joined_method</span>=<span style=\"color: #008000; text-decoration-color: #008000\">'INVITED'</span>,\n        <span style=\"color: #808000; text-decoration-color: #808000\">joined_timestamp</span>=<span style=\"color: #800080; text-decoration-color: #800080; font-weight: bold\">datetime</span><span style=\"color: #800080; text-decoration-color: #800080; font-weight: bold\">.datetime</span><span style=\"font-weight: bold\">(</span><span style=\"color: #008080; text-decoration-color: #008080; font-weight: bold\">2023</span>, <span style=\"color: #008080; text-decoration-color: #008080; font-weight: bold\">3</span>, <span style=\"color: #008080; text-decoration-color: #008080; font-weight: bold\">5</span>, <span style=\"color: #008080; text-decoration-color: #008080; font-weight: bold\">23</span>, <span style=\"color: #008080; text-decoration-color: #008080; font-weight: bold\">10</span>, <span style=\"color: #008080; text-decoration-color: #008080; font-weight: bold\">17</span>, <span style=\"color: #008080; text-decoration-color: #008080; font-weight: bold\">816000</span>, <span style=\"color: #808000; text-decoration-color: #808000\">tzinfo</span>=<span style=\"color: #800080; text-decoration-color: #800080; font-weight: bold\">tzlocal</span><span style=\"font-weight: bold\">())</span>,\n        <span style=\"color: #808000; text-decoration-color: #808000\">root_id</span>=<span style=\"color: #008000; text-decoration-color: #008000\">'r-rkp6'</span>\n    <span style=\"font-weight: bold\">)</span>,\n    <span style=\"color: #800080; text-decoration-color: #800080; font-weight: bold\">Account</span><span style=\"font-weight: bold\">(</span>\n        <span style=\"color: #808000; text-decoration-color: #808000\">id</span>=<span style=\"color: #008000; text-decoration-color: #008000\">'555555555555'</span>,\n        <span style=\"color: #808000; text-decoration-color: #808000\">arn</span>=<span style=\"color: #008000; text-decoration-color: #008000\">'arn:aws:organizations::111111111111:account/o-igflpr8b78/555555555555'</span>,\n        <span style=\"color: #808000; text-decoration-color: #808000\">name</span>=<span style=\"color: #008000; text-decoration-color: #008000\">'my-org-ml-staging'</span>,\n        <span style=\"color: #808000; text-decoration-color: #808000\">email</span>=<span style=\"color: #008000; text-decoration-color: #008000\">'my.name+my-org-ml-staging@mymail.com'</span>,\n        <span style=\"color: #808000; text-decoration-color: #808000\">status</span>=<span style=\"color: #008000; text-decoration-color: #008000\">'ACTIVE'</span>,\n        <span style=\"color: #808000; text-decoration-color: #808000\">joined_method</span>=<span style=\"color: #008000; text-decoration-color: #008000\">'INVITED'</span>,\n        <span style=\"color: #808000; text-decoration-color: #808000\">joined_timestamp</span>=<span style=\"color: #800080; text-decoration-color: #800080; font-weight: bold\">datetime</span><span style=\"color: #800080; text-decoration-color: #800080; font-weight: bold\">.datetime</span><span style=\"font-weight: bold\">(</span><span style=\"color: #008080; text-decoration-color: #008080; font-weight: bold\">2023</span>, <span style=\"color: #008080; text-decoration-color: #008080; font-weight: bold\">3</span>, <span style=\"color: #008080; text-decoration-color: #008080; font-weight: bold\">6</span>, <span style=\"color: #008080; text-decoration-color: #008080; font-weight: bold\">10</span>, <span style=\"color: #008080; text-decoration-color: #008080; font-weight: bold\">46</span>, <span style=\"color: #008080; text-decoration-color: #008080; font-weight: bold\">34</span>, <span style=\"color: #008080; text-decoration-color: #008080; font-weight: bold\">947000</span>, <span style=\"color: #808000; text-decoration-color: #808000\">tzinfo</span>=<span style=\"color: #800080; text-decoration-color: #800080; font-weight: bold\">tzlocal</span><span style=\"font-weight: bold\">())</span>,\n        <span style=\"color: #808000; text-decoration-color: #808000\">root_id</span>=<span style=\"color: #008000; text-decoration-color: #008000\">'r-rkp6'</span>\n    <span style=\"font-weight: bold\">)</span>,\n    <span style=\"color: #800080; text-decoration-color: #800080; font-weight: bold\">Account</span><span style=\"font-weight: bold\">(</span>\n        <span style=\"color: #808000; text-decoration-color: #808000\">id</span>=<span style=\"color: #008000; text-decoration-color: #008000\">'666666666666'</span>,\n        <span style=\"color: #808000; text-decoration-color: #808000\">arn</span>=<span style=\"color: #008000; text-decoration-color: #008000\">'arn:aws:organizations::111111111111:account/o-igflpr8b78/666666666666'</span>,\n        <span style=\"color: #808000; text-decoration-color: #808000\">name</span>=<span style=\"color: #008000; text-decoration-color: #008000\">'my-org-ml-prod'</span>,\n        <span style=\"color: #808000; text-decoration-color: #808000\">email</span>=<span style=\"color: #008000; text-decoration-color: #008000\">'my.name+my-org-ml-prod@mymail.com'</span>,\n        <span style=\"color: #808000; text-decoration-color: #808000\">status</span>=<span style=\"color: #008000; text-decoration-color: #008000\">'ACTIVE'</span>,\n        <span style=\"color: #808000; text-decoration-color: #808000\">joined_method</span>=<span style=\"color: #008000; text-decoration-color: #008000\">'INVITED'</span>,\n        <span style=\"color: #808000; text-decoration-color: #808000\">joined_timestamp</span>=<span style=\"color: #800080; text-decoration-color: #800080; font-weight: bold\">datetime</span><span style=\"color: #800080; text-decoration-color: #800080; font-weight: bold\">.datetime</span><span style=\"font-weight: bold\">(</span><span style=\"color: #008080; text-decoration-color: #008080; font-weight: bold\">2023</span>, <span style=\"color: #008080; text-decoration-color: #008080; font-weight: bold\">3</span>, <span style=\"color: #008080; text-decoration-color: #008080; font-weight: bold\">6</span>, <span style=\"color: #008080; text-decoration-color: #008080; font-weight: bold\">10</span>, <span style=\"color: #008080; text-decoration-color: #008080; font-weight: bold\">46</span>, <span style=\"color: #008080; text-decoration-color: #008080; font-weight: bold\">54</span>, <span style=\"color: #008080; text-decoration-color: #008080; font-weight: bold\">519000</span>, <span style=\"color: #808000; text-decoration-color: #808000\">tzinfo</span>=<span style=\"color: #800080; text-decoration-color: #800080; font-weight: bold\">tzlocal</span><span style=\"font-weight: bold\">())</span>,\n        <span style=\"color: #808000; text-decoration-color: #808000\">root_id</span>=<span style=\"color: #008000; text-decoration-color: #008000\">'r-rkp6'</span>\n    <span style=\"font-weight: bold\">)</span>\n<span style=\"font-weight: bold\">]</span>\n</pre>\n"
     },
     "metadata": {},
     "output_type": "display_data"
    }
   ],
   "source": [
    "# you can access top level accounts in an OU\n",
    "rprint(ou_ml.accounts)"
   ],
   "metadata": {
    "collapsed": false,
    "pycharm": {
     "name": "#%%\n"
    }
   }
  },
  {
   "cell_type": "code",
   "execution_count": 17,
   "outputs": [
    {
     "data": {
      "text/plain": "\u001B[1m[\u001B[0m\n    \u001B[1;35mAccount\u001B[0m\u001B[1m(\u001B[0m\n        \u001B[33mid\u001B[0m=\u001B[32m'444444444444'\u001B[0m,\n        \u001B[33marn\u001B[0m=\u001B[32m'arn:aws:organizations::111111111111:account/o-igflpr8b78/444444444444'\u001B[0m,\n        \u001B[33mname\u001B[0m=\u001B[32m'my-org-ml-dev'\u001B[0m,\n        \u001B[33memail\u001B[0m=\u001B[32m'my.name+my-org-ml-dev@mymail.com'\u001B[0m,\n        \u001B[33mstatus\u001B[0m=\u001B[32m'ACTIVE'\u001B[0m,\n        \u001B[33mjoined_method\u001B[0m=\u001B[32m'INVITED'\u001B[0m,\n        \u001B[33mjoined_timestamp\u001B[0m=\u001B[1;35mdatetime\u001B[0m\u001B[1;35m.datetime\u001B[0m\u001B[1m(\u001B[0m\u001B[1;36m2023\u001B[0m, \u001B[1;36m3\u001B[0m, \u001B[1;36m5\u001B[0m, \u001B[1;36m23\u001B[0m, \u001B[1;36m10\u001B[0m, \u001B[1;36m17\u001B[0m, \u001B[1;36m816000\u001B[0m, \u001B[33mtzinfo\u001B[0m=\u001B[1;35mtzlocal\u001B[0m\u001B[1m(\u001B[0m\u001B[1m)\u001B[0m\u001B[1m)\u001B[0m,\n        \u001B[33mroot_id\u001B[0m=\u001B[32m'r-rkp6'\u001B[0m\n    \u001B[1m)\u001B[0m,\n    \u001B[1;35mAccount\u001B[0m\u001B[1m(\u001B[0m\n        \u001B[33mid\u001B[0m=\u001B[32m'555555555555'\u001B[0m,\n        \u001B[33marn\u001B[0m=\u001B[32m'arn:aws:organizations::111111111111:account/o-igflpr8b78/555555555555'\u001B[0m,\n        \u001B[33mname\u001B[0m=\u001B[32m'my-org-ml-staging'\u001B[0m,\n        \u001B[33memail\u001B[0m=\u001B[32m'my.name+my-org-ml-staging@mymail.com'\u001B[0m,\n        \u001B[33mstatus\u001B[0m=\u001B[32m'ACTIVE'\u001B[0m,\n        \u001B[33mjoined_method\u001B[0m=\u001B[32m'INVITED'\u001B[0m,\n        \u001B[33mjoined_timestamp\u001B[0m=\u001B[1;35mdatetime\u001B[0m\u001B[1;35m.datetime\u001B[0m\u001B[1m(\u001B[0m\u001B[1;36m2023\u001B[0m, \u001B[1;36m3\u001B[0m, \u001B[1;36m6\u001B[0m, \u001B[1;36m10\u001B[0m, \u001B[1;36m46\u001B[0m, \u001B[1;36m34\u001B[0m, \u001B[1;36m947000\u001B[0m, \u001B[33mtzinfo\u001B[0m=\u001B[1;35mtzlocal\u001B[0m\u001B[1m(\u001B[0m\u001B[1m)\u001B[0m\u001B[1m)\u001B[0m,\n        \u001B[33mroot_id\u001B[0m=\u001B[32m'r-rkp6'\u001B[0m\n    \u001B[1m)\u001B[0m,\n    \u001B[1;35mAccount\u001B[0m\u001B[1m(\u001B[0m\n        \u001B[33mid\u001B[0m=\u001B[32m'666666666666'\u001B[0m,\n        \u001B[33marn\u001B[0m=\u001B[32m'arn:aws:organizations::111111111111:account/o-igflpr8b78/666666666666'\u001B[0m,\n        \u001B[33mname\u001B[0m=\u001B[32m'my-org-ml-prod'\u001B[0m,\n        \u001B[33memail\u001B[0m=\u001B[32m'my.name+my-org-ml-prod@mymail.com'\u001B[0m,\n        \u001B[33mstatus\u001B[0m=\u001B[32m'ACTIVE'\u001B[0m,\n        \u001B[33mjoined_method\u001B[0m=\u001B[32m'INVITED'\u001B[0m,\n        \u001B[33mjoined_timestamp\u001B[0m=\u001B[1;35mdatetime\u001B[0m\u001B[1;35m.datetime\u001B[0m\u001B[1m(\u001B[0m\u001B[1;36m2023\u001B[0m, \u001B[1;36m3\u001B[0m, \u001B[1;36m6\u001B[0m, \u001B[1;36m10\u001B[0m, \u001B[1;36m46\u001B[0m, \u001B[1;36m54\u001B[0m, \u001B[1;36m519000\u001B[0m, \u001B[33mtzinfo\u001B[0m=\u001B[1;35mtzlocal\u001B[0m\u001B[1m(\u001B[0m\u001B[1m)\u001B[0m\u001B[1m)\u001B[0m,\n        \u001B[33mroot_id\u001B[0m=\u001B[32m'r-rkp6'\u001B[0m\n    \u001B[1m)\u001B[0m\n\u001B[1m]\u001B[0m\n",
      "text/html": "<pre style=\"white-space:pre;overflow-x:auto;line-height:normal;font-family:Menlo,'DejaVu Sans Mono',consolas,'Courier New',monospace\"><span style=\"font-weight: bold\">[</span>\n    <span style=\"color: #800080; text-decoration-color: #800080; font-weight: bold\">Account</span><span style=\"font-weight: bold\">(</span>\n        <span style=\"color: #808000; text-decoration-color: #808000\">id</span>=<span style=\"color: #008000; text-decoration-color: #008000\">'444444444444'</span>,\n        <span style=\"color: #808000; text-decoration-color: #808000\">arn</span>=<span style=\"color: #008000; text-decoration-color: #008000\">'arn:aws:organizations::111111111111:account/o-igflpr8b78/444444444444'</span>,\n        <span style=\"color: #808000; text-decoration-color: #808000\">name</span>=<span style=\"color: #008000; text-decoration-color: #008000\">'my-org-ml-dev'</span>,\n        <span style=\"color: #808000; text-decoration-color: #808000\">email</span>=<span style=\"color: #008000; text-decoration-color: #008000\">'my.name+my-org-ml-dev@mymail.com'</span>,\n        <span style=\"color: #808000; text-decoration-color: #808000\">status</span>=<span style=\"color: #008000; text-decoration-color: #008000\">'ACTIVE'</span>,\n        <span style=\"color: #808000; text-decoration-color: #808000\">joined_method</span>=<span style=\"color: #008000; text-decoration-color: #008000\">'INVITED'</span>,\n        <span style=\"color: #808000; text-decoration-color: #808000\">joined_timestamp</span>=<span style=\"color: #800080; text-decoration-color: #800080; font-weight: bold\">datetime</span><span style=\"color: #800080; text-decoration-color: #800080; font-weight: bold\">.datetime</span><span style=\"font-weight: bold\">(</span><span style=\"color: #008080; text-decoration-color: #008080; font-weight: bold\">2023</span>, <span style=\"color: #008080; text-decoration-color: #008080; font-weight: bold\">3</span>, <span style=\"color: #008080; text-decoration-color: #008080; font-weight: bold\">5</span>, <span style=\"color: #008080; text-decoration-color: #008080; font-weight: bold\">23</span>, <span style=\"color: #008080; text-decoration-color: #008080; font-weight: bold\">10</span>, <span style=\"color: #008080; text-decoration-color: #008080; font-weight: bold\">17</span>, <span style=\"color: #008080; text-decoration-color: #008080; font-weight: bold\">816000</span>, <span style=\"color: #808000; text-decoration-color: #808000\">tzinfo</span>=<span style=\"color: #800080; text-decoration-color: #800080; font-weight: bold\">tzlocal</span><span style=\"font-weight: bold\">())</span>,\n        <span style=\"color: #808000; text-decoration-color: #808000\">root_id</span>=<span style=\"color: #008000; text-decoration-color: #008000\">'r-rkp6'</span>\n    <span style=\"font-weight: bold\">)</span>,\n    <span style=\"color: #800080; text-decoration-color: #800080; font-weight: bold\">Account</span><span style=\"font-weight: bold\">(</span>\n        <span style=\"color: #808000; text-decoration-color: #808000\">id</span>=<span style=\"color: #008000; text-decoration-color: #008000\">'555555555555'</span>,\n        <span style=\"color: #808000; text-decoration-color: #808000\">arn</span>=<span style=\"color: #008000; text-decoration-color: #008000\">'arn:aws:organizations::111111111111:account/o-igflpr8b78/555555555555'</span>,\n        <span style=\"color: #808000; text-decoration-color: #808000\">name</span>=<span style=\"color: #008000; text-decoration-color: #008000\">'my-org-ml-staging'</span>,\n        <span style=\"color: #808000; text-decoration-color: #808000\">email</span>=<span style=\"color: #008000; text-decoration-color: #008000\">'my.name+my-org-ml-staging@mymail.com'</span>,\n        <span style=\"color: #808000; text-decoration-color: #808000\">status</span>=<span style=\"color: #008000; text-decoration-color: #008000\">'ACTIVE'</span>,\n        <span style=\"color: #808000; text-decoration-color: #808000\">joined_method</span>=<span style=\"color: #008000; text-decoration-color: #008000\">'INVITED'</span>,\n        <span style=\"color: #808000; text-decoration-color: #808000\">joined_timestamp</span>=<span style=\"color: #800080; text-decoration-color: #800080; font-weight: bold\">datetime</span><span style=\"color: #800080; text-decoration-color: #800080; font-weight: bold\">.datetime</span><span style=\"font-weight: bold\">(</span><span style=\"color: #008080; text-decoration-color: #008080; font-weight: bold\">2023</span>, <span style=\"color: #008080; text-decoration-color: #008080; font-weight: bold\">3</span>, <span style=\"color: #008080; text-decoration-color: #008080; font-weight: bold\">6</span>, <span style=\"color: #008080; text-decoration-color: #008080; font-weight: bold\">10</span>, <span style=\"color: #008080; text-decoration-color: #008080; font-weight: bold\">46</span>, <span style=\"color: #008080; text-decoration-color: #008080; font-weight: bold\">34</span>, <span style=\"color: #008080; text-decoration-color: #008080; font-weight: bold\">947000</span>, <span style=\"color: #808000; text-decoration-color: #808000\">tzinfo</span>=<span style=\"color: #800080; text-decoration-color: #800080; font-weight: bold\">tzlocal</span><span style=\"font-weight: bold\">())</span>,\n        <span style=\"color: #808000; text-decoration-color: #808000\">root_id</span>=<span style=\"color: #008000; text-decoration-color: #008000\">'r-rkp6'</span>\n    <span style=\"font-weight: bold\">)</span>,\n    <span style=\"color: #800080; text-decoration-color: #800080; font-weight: bold\">Account</span><span style=\"font-weight: bold\">(</span>\n        <span style=\"color: #808000; text-decoration-color: #808000\">id</span>=<span style=\"color: #008000; text-decoration-color: #008000\">'666666666666'</span>,\n        <span style=\"color: #808000; text-decoration-color: #808000\">arn</span>=<span style=\"color: #008000; text-decoration-color: #008000\">'arn:aws:organizations::111111111111:account/o-igflpr8b78/666666666666'</span>,\n        <span style=\"color: #808000; text-decoration-color: #808000\">name</span>=<span style=\"color: #008000; text-decoration-color: #008000\">'my-org-ml-prod'</span>,\n        <span style=\"color: #808000; text-decoration-color: #808000\">email</span>=<span style=\"color: #008000; text-decoration-color: #008000\">'my.name+my-org-ml-prod@mymail.com'</span>,\n        <span style=\"color: #808000; text-decoration-color: #808000\">status</span>=<span style=\"color: #008000; text-decoration-color: #008000\">'ACTIVE'</span>,\n        <span style=\"color: #808000; text-decoration-color: #808000\">joined_method</span>=<span style=\"color: #008000; text-decoration-color: #008000\">'INVITED'</span>,\n        <span style=\"color: #808000; text-decoration-color: #808000\">joined_timestamp</span>=<span style=\"color: #800080; text-decoration-color: #800080; font-weight: bold\">datetime</span><span style=\"color: #800080; text-decoration-color: #800080; font-weight: bold\">.datetime</span><span style=\"font-weight: bold\">(</span><span style=\"color: #008080; text-decoration-color: #008080; font-weight: bold\">2023</span>, <span style=\"color: #008080; text-decoration-color: #008080; font-weight: bold\">3</span>, <span style=\"color: #008080; text-decoration-color: #008080; font-weight: bold\">6</span>, <span style=\"color: #008080; text-decoration-color: #008080; font-weight: bold\">10</span>, <span style=\"color: #008080; text-decoration-color: #008080; font-weight: bold\">46</span>, <span style=\"color: #008080; text-decoration-color: #008080; font-weight: bold\">54</span>, <span style=\"color: #008080; text-decoration-color: #008080; font-weight: bold\">519000</span>, <span style=\"color: #808000; text-decoration-color: #808000\">tzinfo</span>=<span style=\"color: #800080; text-decoration-color: #800080; font-weight: bold\">tzlocal</span><span style=\"font-weight: bold\">())</span>,\n        <span style=\"color: #808000; text-decoration-color: #808000\">root_id</span>=<span style=\"color: #008000; text-decoration-color: #008000\">'r-rkp6'</span>\n    <span style=\"font-weight: bold\">)</span>\n<span style=\"font-weight: bold\">]</span>\n</pre>\n"
     },
     "metadata": {},
     "output_type": "display_data"
    }
   ],
   "source": [
    "# you can also do it recursively\n",
    "rprint(ou_ml.all_accounts)"
   ],
   "metadata": {
    "collapsed": false,
    "pycharm": {
     "name": "#%%\n"
    }
   }
  },
  {
   "cell_type": "code",
   "execution_count": 15,
   "outputs": [
    {
     "data": {
      "text/plain": "\u001B[1m[\u001B[0m\u001B[1m]\u001B[0m\n",
      "text/html": "<pre style=\"white-space:pre;overflow-x:auto;line-height:normal;font-family:Menlo,'DejaVu Sans Mono',consolas,'Courier New',monospace\"><span style=\"font-weight: bold\">[]</span>\n</pre>\n"
     },
     "metadata": {},
     "output_type": "display_data"
    }
   ],
   "source": [
    "# you can access top level organizational units in an OU\n",
    "rprint(ou_ml.org_units)"
   ],
   "metadata": {
    "collapsed": false,
    "pycharm": {
     "name": "#%%\n"
    }
   }
  },
  {
   "cell_type": "code",
   "execution_count": 14,
   "outputs": [
    {
     "data": {
      "text/plain": "\u001B[1m[\u001B[0m\u001B[1m]\u001B[0m\n",
      "text/html": "<pre style=\"white-space:pre;overflow-x:auto;line-height:normal;font-family:Menlo,'DejaVu Sans Mono',consolas,'Courier New',monospace\"><span style=\"font-weight: bold\">[]</span>\n</pre>\n"
     },
     "metadata": {},
     "output_type": "display_data"
    }
   ],
   "source": [
    "# you can also do it recursively\n",
    "rprint(ou_ml.all_org_units)"
   ],
   "metadata": {
    "collapsed": false,
    "pycharm": {
     "name": "#%%\n"
    }
   }
  },
  {
   "cell_type": "markdown",
   "source": [
    "It might be time consuming (5-10 seconds) to recursively get all information via AWS API. You can serialize the results to JSON, cache it and read it back (0.01 seconds)"
   ],
   "metadata": {
    "collapsed": false,
    "pycharm": {
     "name": "#%% md\n"
    }
   }
  },
  {
   "cell_type": "code",
   "execution_count": 20,
   "outputs": [],
   "source": [
    "# serialize\n",
    "data = org_struct.serialize() # put this data in JSON, you can use ``jsonpickle.dumps``\n",
    "\n",
    "# deserialize\n",
    "org_struct = aws_orgs.OrgStructure.deserialize(data)"
   ],
   "metadata": {
    "collapsed": false,
    "pycharm": {
     "name": "#%%\n"
    }
   }
  },
  {
   "cell_type": "code",
   "execution_count": null,
   "outputs": [],
   "source": [],
   "metadata": {
    "collapsed": false,
    "pycharm": {
     "name": "#%%\n"
    }
   }
  }
 ],
 "metadata": {
  "kernelspec": {
   "display_name": "Python 3",
   "language": "python",
   "name": "python3"
  },
  "language_info": {
   "codemirror_mode": {
    "name": "ipython",
    "version": 2
   },
   "file_extension": ".py",
   "mimetype": "text/x-python",
   "name": "python",
   "nbconvert_exporter": "python",
   "pygments_lexer": "ipython2",
   "version": "2.7.6"
  }
 },
 "nbformat": 4,
 "nbformat_minor": 0
}