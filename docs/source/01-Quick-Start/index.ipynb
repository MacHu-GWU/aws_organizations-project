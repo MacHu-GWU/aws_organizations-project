{
 "cells": [
  {
   "cell_type": "markdown",
   "id": "bbe401472acfa017",
   "metadata": {
    "collapsed": false,
    "jupyter": {
     "outputs_hidden": false
    }
   },
   "source": [
    "# Quick Start\n",
    "\n",
    "## Import the Library"
   ]
  },
  {
   "cell_type": "code",
   "execution_count": 1,
   "id": "d9cc1cb6c16a5cbf",
   "metadata": {
    "ExecuteTime": {
     "end_time": "2024-11-11T16:12:47.292856Z",
     "start_time": "2024-11-11T16:12:47.288671Z"
    },
    "collapsed": false,
    "jupyter": {
     "outputs_hidden": false
    }
   },
   "outputs": [],
   "source": [
    "# First import the library\n",
    "import aws_organizations.api as aws_orgs\n",
    "# We need boto_session_manager to set the credential\n",
    "from boto_session_manager import BotoSesManager"
   ]
  },
  {
   "cell_type": "markdown",
   "id": "e44243c7c4d7ac2e",
   "metadata": {
    "collapsed": false,
    "jupyter": {
     "outputs_hidden": false
    }
   },
   "source": [
    "## Load AWS Organization Structure"
   ]
  },
  {
   "cell_type": "markdown",
   "id": "a271796b533e68f8",
   "metadata": {
    "collapsed": false,
    "jupyter": {
     "outputs_hidden": false
    }
   },
   "source": [
    "The ``aws_orgs.OrgStructure.get_org_structure`` method will call AWS API to do the following:\n",
    "\n",
    "- get the current organization and it's root account and root id\n",
    "- use root id to get all the accounts and organization units tree structure recursively\n",
    "- create a in-memory ``TREE`` data structure for better user experience"
   ]
  },
  {
   "cell_type": "code",
   "execution_count": 2,
   "id": "4209dd0d2f443f73",
   "metadata": {
    "ExecuteTime": {
     "end_time": "2024-11-11T16:12:47.718678Z",
     "start_time": "2024-11-11T16:12:47.715414Z"
    },
    "collapsed": false,
    "jupyter": {
     "outputs_hidden": false
    }
   },
   "outputs": [],
   "source": [
    "# Use this code to get your in-memory ``OrgStructure`` object\n",
    "# bsm = BotoSesManager(profile_name=\"my_management_account_aws_profile\")\n",
    "# org_struct = aws_orgs.OrgStructure.get_org_structure(bsm)"
   ]
  },
  {
   "cell_type": "markdown",
   "id": "f6e2f42527e47906",
   "metadata": {
    "collapsed": false,
    "jupyter": {
     "outputs_hidden": false
    }
   },
   "source": [
    "In this tutorial, we would like to use a pre-built ``OrgStructure`` object."
   ]
  },
  {
   "cell_type": "code",
   "execution_count": 3,
   "id": "98482f01dfc3d7fb",
   "metadata": {
    "ExecuteTime": {
     "end_time": "2024-11-11T16:12:48.049223Z",
     "start_time": "2024-11-11T16:12:48.040217Z"
    },
    "collapsed": false,
    "jupyter": {
     "outputs_hidden": false
    }
   },
   "outputs": [],
   "source": [
    "# Load the pre-built ``OrgStructure`` object\n",
    "import json\n",
    "\n",
    "# rich and tabulate is just for pretty printing\n",
    "from rich import print as rprint\n",
    "from tabulate import tabulate\n",
    "\n",
    "org_struct = aws_orgs.OrgStructure.deserialize(json.load(open(\"org_struct.json\")))"
   ]
  },
  {
   "cell_type": "markdown",
   "id": "6e7c9c6c468d3f2e",
   "metadata": {
    "collapsed": false,
    "jupyter": {
     "outputs_hidden": false
    }
   },
   "source": [
    "## Visualize the Organization Structure"
   ]
  },
  {
   "cell_type": "markdown",
   "id": "e78eaea6d5c6c851",
   "metadata": {
    "collapsed": false,
    "jupyter": {
     "outputs_hidden": false
    }
   },
   "source": [
    "You can dump the organization structure to CSV."
   ]
  },
  {
   "cell_type": "code",
   "execution_count": 4,
   "id": "5f1642c8be22e96b",
   "metadata": {
    "ExecuteTime": {
     "end_time": "2024-11-11T16:12:48.933866Z",
     "start_time": "2024-11-11T16:12:48.928650Z"
    },
    "collapsed": false,
    "jupyter": {
     "outputs_hidden": false
    }
   },
   "outputs": [
    {
     "name": "stdout",
     "output_type": "stream",
     "text": [
      "Root\troot\to-789\tNone\tr-123\n",
      "Account\troot | admin\t111111111111\to-789\tr-123\n",
      "OrgUnit\troot | Security\tou-111\to-789\tr-123\n",
      "Account\troot | Security | sec_login\t222222222222\tou-111\tr-123\n",
      "Account\troot | Security | sec_audit\t333333333333\tou-111\tr-123\n",
      "OrgUnit\troot | Application\tou-222\to-789\tr-123\n",
      "Account\troot | Application | devops\t444444444444\tou-222\tr-123\n",
      "Account\troot | Application | app-dev\t555555555555\tou-222\tr-123\n",
      "Account\troot | Application | app-test\t666666666666\tou-222\tr-123\n",
      "Account\troot | Application | app-prod\t777777777777\tou-222\tr-123\n"
     ]
    }
   ],
   "source": [
    "print(org_struct.to_csv())"
   ]
  },
  {
   "cell_type": "markdown",
   "id": "2139523e30c3af4d",
   "metadata": {
    "collapsed": false,
    "jupyter": {
     "outputs_hidden": false
    }
   },
   "source": [
    "You can dump the organization structure to JSON.\n",
    "\n",
    "It might be time consuming (5-10 seconds) to recursively get all information via AWS API. You can serialize the results to JSON, cache it and read it back (0.01 seconds)"
   ]
  },
  {
   "cell_type": "code",
   "execution_count": 5,
   "id": "25bc0c8454af36eb",
   "metadata": {
    "ExecuteTime": {
     "end_time": "2024-11-11T16:12:49.565200Z",
     "start_time": "2024-11-11T16:12:49.561021Z"
    },
    "collapsed": false,
    "jupyter": {
     "outputs_hidden": false
    }
   },
   "outputs": [
    {
     "data": {
      "text/html": [
       "<pre style=\"white-space:pre;overflow-x:auto;line-height:normal;font-family:Menlo,'DejaVu Sans Mono',consolas,'Courier New',monospace\"><span style=\"font-weight: bold\">{</span>\n",
       "    <span style=\"color: #008000; text-decoration-color: #008000\">'entities'</span>: <span style=\"font-weight: bold\">[</span>\n",
       "        <span style=\"font-weight: bold\">{</span>\n",
       "            <span style=\"color: #008000; text-decoration-color: #008000\">'id'</span>: <span style=\"color: #008000; text-decoration-color: #008000\">'o-789'</span>,\n",
       "            <span style=\"color: #008000; text-decoration-color: #008000\">'name'</span>: <span style=\"color: #008000; text-decoration-color: #008000\">'root'</span>,\n",
       "            <span style=\"color: #008000; text-decoration-color: #008000\">'type'</span>: <span style=\"color: #008000; text-decoration-color: #008000\">'Root'</span>,\n",
       "            <span style=\"color: #008000; text-decoration-color: #008000\">'obj'</span>: <span style=\"font-weight: bold\">{</span>\n",
       "                <span style=\"color: #008000; text-decoration-color: #008000\">'id'</span>: <span style=\"color: #008000; text-decoration-color: #008000\">'o-789'</span>,\n",
       "                <span style=\"color: #008000; text-decoration-color: #008000\">'arn'</span>: <span style=\"color: #800080; text-decoration-color: #800080; font-style: italic\">None</span>,\n",
       "                <span style=\"color: #008000; text-decoration-color: #008000\">'feature_set'</span>: <span style=\"color: #800080; text-decoration-color: #800080; font-style: italic\">None</span>,\n",
       "                <span style=\"color: #008000; text-decoration-color: #008000\">'master_account_arn'</span>: <span style=\"color: #800080; text-decoration-color: #800080; font-style: italic\">None</span>,\n",
       "                <span style=\"color: #008000; text-decoration-color: #008000\">'master_account_id'</span>: <span style=\"color: #800080; text-decoration-color: #800080; font-style: italic\">None</span>,\n",
       "                <span style=\"color: #008000; text-decoration-color: #008000\">'master_account_email'</span>: <span style=\"color: #800080; text-decoration-color: #800080; font-style: italic\">None</span>,\n",
       "                <span style=\"color: #008000; text-decoration-color: #008000\">'available_policy_types'</span>: <span style=\"font-weight: bold\">[]</span>,\n",
       "                <span style=\"color: #008000; text-decoration-color: #008000\">'root_id'</span>: <span style=\"color: #008000; text-decoration-color: #008000\">'r-123'</span>\n",
       "            <span style=\"font-weight: bold\">}</span>,\n",
       "            <span style=\"color: #008000; text-decoration-color: #008000\">'parent_id'</span>: <span style=\"color: #800080; text-decoration-color: #800080; font-style: italic\">None</span>\n",
       "        <span style=\"font-weight: bold\">}</span>,\n",
       "        <span style=\"font-weight: bold\">{</span>\n",
       "            <span style=\"color: #008000; text-decoration-color: #008000\">'id'</span>: <span style=\"color: #008000; text-decoration-color: #008000\">'111111111111'</span>,\n",
       "            <span style=\"color: #008000; text-decoration-color: #008000\">'name'</span>: <span style=\"color: #008000; text-decoration-color: #008000\">'admin'</span>,\n",
       "            <span style=\"color: #008000; text-decoration-color: #008000\">'type'</span>: <span style=\"color: #008000; text-decoration-color: #008000\">'Account'</span>,\n",
       "            <span style=\"color: #008000; text-decoration-color: #008000\">'obj'</span>: <span style=\"font-weight: bold\">{</span>\n",
       "                <span style=\"color: #008000; text-decoration-color: #008000\">'id'</span>: <span style=\"color: #008000; text-decoration-color: #008000\">'111111111111'</span>,\n",
       "                <span style=\"color: #008000; text-decoration-color: #008000\">'arn'</span>: <span style=\"color: #800080; text-decoration-color: #800080; font-style: italic\">None</span>,\n",
       "                <span style=\"color: #008000; text-decoration-color: #008000\">'name'</span>: <span style=\"color: #008000; text-decoration-color: #008000\">'admin'</span>,\n",
       "                <span style=\"color: #008000; text-decoration-color: #008000\">'email'</span>: <span style=\"color: #800080; text-decoration-color: #800080; font-style: italic\">None</span>,\n",
       "                <span style=\"color: #008000; text-decoration-color: #008000\">'status'</span>: <span style=\"color: #800080; text-decoration-color: #800080; font-style: italic\">None</span>,\n",
       "                <span style=\"color: #008000; text-decoration-color: #008000\">'joined_method'</span>: <span style=\"color: #800080; text-decoration-color: #800080; font-style: italic\">None</span>,\n",
       "                <span style=\"color: #008000; text-decoration-color: #008000\">'joined_timestamp'</span>: <span style=\"color: #800080; text-decoration-color: #800080; font-style: italic\">None</span>,\n",
       "                <span style=\"color: #008000; text-decoration-color: #008000\">'root_id'</span>: <span style=\"color: #008000; text-decoration-color: #008000\">'r-123'</span>\n",
       "            <span style=\"font-weight: bold\">}</span>,\n",
       "            <span style=\"color: #008000; text-decoration-color: #008000\">'parent_id'</span>: <span style=\"color: #008000; text-decoration-color: #008000\">'o-789'</span>\n",
       "        <span style=\"font-weight: bold\">}</span>,\n",
       "        <span style=\"font-weight: bold\">{</span>\n",
       "            <span style=\"color: #008000; text-decoration-color: #008000\">'id'</span>: <span style=\"color: #008000; text-decoration-color: #008000\">'ou-111'</span>,\n",
       "            <span style=\"color: #008000; text-decoration-color: #008000\">'name'</span>: <span style=\"color: #008000; text-decoration-color: #008000\">'Security'</span>,\n",
       "            <span style=\"color: #008000; text-decoration-color: #008000\">'type'</span>: <span style=\"color: #008000; text-decoration-color: #008000\">'OrgUnit'</span>,\n",
       "            <span style=\"color: #008000; text-decoration-color: #008000\">'obj'</span>: <span style=\"font-weight: bold\">{</span><span style=\"color: #008000; text-decoration-color: #008000\">'id'</span>: <span style=\"color: #008000; text-decoration-color: #008000\">'ou-111'</span>, <span style=\"color: #008000; text-decoration-color: #008000\">'arn'</span>: <span style=\"color: #800080; text-decoration-color: #800080; font-style: italic\">None</span>, <span style=\"color: #008000; text-decoration-color: #008000\">'name'</span>: <span style=\"color: #008000; text-decoration-color: #008000\">'Security'</span>, <span style=\"color: #008000; text-decoration-color: #008000\">'root_id'</span>: <span style=\"color: #008000; text-decoration-color: #008000\">'r-123'</span><span style=\"font-weight: bold\">}</span>,\n",
       "            <span style=\"color: #008000; text-decoration-color: #008000\">'parent_id'</span>: <span style=\"color: #008000; text-decoration-color: #008000\">'o-789'</span>\n",
       "        <span style=\"font-weight: bold\">}</span>,\n",
       "        <span style=\"font-weight: bold\">{</span>\n",
       "            <span style=\"color: #008000; text-decoration-color: #008000\">'id'</span>: <span style=\"color: #008000; text-decoration-color: #008000\">'222222222222'</span>,\n",
       "            <span style=\"color: #008000; text-decoration-color: #008000\">'name'</span>: <span style=\"color: #008000; text-decoration-color: #008000\">'sec_login'</span>,\n",
       "            <span style=\"color: #008000; text-decoration-color: #008000\">'type'</span>: <span style=\"color: #008000; text-decoration-color: #008000\">'Account'</span>,\n",
       "            <span style=\"color: #008000; text-decoration-color: #008000\">'obj'</span>: <span style=\"font-weight: bold\">{</span>\n",
       "                <span style=\"color: #008000; text-decoration-color: #008000\">'id'</span>: <span style=\"color: #008000; text-decoration-color: #008000\">'222222222222'</span>,\n",
       "                <span style=\"color: #008000; text-decoration-color: #008000\">'arn'</span>: <span style=\"color: #800080; text-decoration-color: #800080; font-style: italic\">None</span>,\n",
       "                <span style=\"color: #008000; text-decoration-color: #008000\">'name'</span>: <span style=\"color: #008000; text-decoration-color: #008000\">'sec_login'</span>,\n",
       "                <span style=\"color: #008000; text-decoration-color: #008000\">'email'</span>: <span style=\"color: #800080; text-decoration-color: #800080; font-style: italic\">None</span>,\n",
       "                <span style=\"color: #008000; text-decoration-color: #008000\">'status'</span>: <span style=\"color: #800080; text-decoration-color: #800080; font-style: italic\">None</span>,\n",
       "                <span style=\"color: #008000; text-decoration-color: #008000\">'joined_method'</span>: <span style=\"color: #800080; text-decoration-color: #800080; font-style: italic\">None</span>,\n",
       "                <span style=\"color: #008000; text-decoration-color: #008000\">'joined_timestamp'</span>: <span style=\"color: #800080; text-decoration-color: #800080; font-style: italic\">None</span>,\n",
       "                <span style=\"color: #008000; text-decoration-color: #008000\">'root_id'</span>: <span style=\"color: #008000; text-decoration-color: #008000\">'r-123'</span>\n",
       "            <span style=\"font-weight: bold\">}</span>,\n",
       "            <span style=\"color: #008000; text-decoration-color: #008000\">'parent_id'</span>: <span style=\"color: #008000; text-decoration-color: #008000\">'ou-111'</span>\n",
       "        <span style=\"font-weight: bold\">}</span>,\n",
       "        <span style=\"font-weight: bold\">{</span>\n",
       "            <span style=\"color: #008000; text-decoration-color: #008000\">'id'</span>: <span style=\"color: #008000; text-decoration-color: #008000\">'333333333333'</span>,\n",
       "            <span style=\"color: #008000; text-decoration-color: #008000\">'name'</span>: <span style=\"color: #008000; text-decoration-color: #008000\">'sec_audit'</span>,\n",
       "            <span style=\"color: #008000; text-decoration-color: #008000\">'type'</span>: <span style=\"color: #008000; text-decoration-color: #008000\">'Account'</span>,\n",
       "            <span style=\"color: #008000; text-decoration-color: #008000\">'obj'</span>: <span style=\"font-weight: bold\">{</span>\n",
       "                <span style=\"color: #008000; text-decoration-color: #008000\">'id'</span>: <span style=\"color: #008000; text-decoration-color: #008000\">'333333333333'</span>,\n",
       "                <span style=\"color: #008000; text-decoration-color: #008000\">'arn'</span>: <span style=\"color: #800080; text-decoration-color: #800080; font-style: italic\">None</span>,\n",
       "                <span style=\"color: #008000; text-decoration-color: #008000\">'name'</span>: <span style=\"color: #008000; text-decoration-color: #008000\">'sec_audit'</span>,\n",
       "                <span style=\"color: #008000; text-decoration-color: #008000\">'email'</span>: <span style=\"color: #800080; text-decoration-color: #800080; font-style: italic\">None</span>,\n",
       "                <span style=\"color: #008000; text-decoration-color: #008000\">'status'</span>: <span style=\"color: #800080; text-decoration-color: #800080; font-style: italic\">None</span>,\n",
       "                <span style=\"color: #008000; text-decoration-color: #008000\">'joined_method'</span>: <span style=\"color: #800080; text-decoration-color: #800080; font-style: italic\">None</span>,\n",
       "                <span style=\"color: #008000; text-decoration-color: #008000\">'joined_timestamp'</span>: <span style=\"color: #800080; text-decoration-color: #800080; font-style: italic\">None</span>,\n",
       "                <span style=\"color: #008000; text-decoration-color: #008000\">'root_id'</span>: <span style=\"color: #008000; text-decoration-color: #008000\">'r-123'</span>\n",
       "            <span style=\"font-weight: bold\">}</span>,\n",
       "            <span style=\"color: #008000; text-decoration-color: #008000\">'parent_id'</span>: <span style=\"color: #008000; text-decoration-color: #008000\">'ou-111'</span>\n",
       "        <span style=\"font-weight: bold\">}</span>,\n",
       "        <span style=\"font-weight: bold\">{</span>\n",
       "            <span style=\"color: #008000; text-decoration-color: #008000\">'id'</span>: <span style=\"color: #008000; text-decoration-color: #008000\">'ou-222'</span>,\n",
       "            <span style=\"color: #008000; text-decoration-color: #008000\">'name'</span>: <span style=\"color: #008000; text-decoration-color: #008000\">'Application'</span>,\n",
       "            <span style=\"color: #008000; text-decoration-color: #008000\">'type'</span>: <span style=\"color: #008000; text-decoration-color: #008000\">'OrgUnit'</span>,\n",
       "            <span style=\"color: #008000; text-decoration-color: #008000\">'obj'</span>: <span style=\"font-weight: bold\">{</span><span style=\"color: #008000; text-decoration-color: #008000\">'id'</span>: <span style=\"color: #008000; text-decoration-color: #008000\">'ou-222'</span>, <span style=\"color: #008000; text-decoration-color: #008000\">'arn'</span>: <span style=\"color: #800080; text-decoration-color: #800080; font-style: italic\">None</span>, <span style=\"color: #008000; text-decoration-color: #008000\">'name'</span>: <span style=\"color: #008000; text-decoration-color: #008000\">'Application'</span>, <span style=\"color: #008000; text-decoration-color: #008000\">'root_id'</span>: <span style=\"color: #008000; text-decoration-color: #008000\">'r-123'</span><span style=\"font-weight: bold\">}</span>,\n",
       "            <span style=\"color: #008000; text-decoration-color: #008000\">'parent_id'</span>: <span style=\"color: #008000; text-decoration-color: #008000\">'o-789'</span>\n",
       "        <span style=\"font-weight: bold\">}</span>,\n",
       "        <span style=\"font-weight: bold\">{</span>\n",
       "            <span style=\"color: #008000; text-decoration-color: #008000\">'id'</span>: <span style=\"color: #008000; text-decoration-color: #008000\">'444444444444'</span>,\n",
       "            <span style=\"color: #008000; text-decoration-color: #008000\">'name'</span>: <span style=\"color: #008000; text-decoration-color: #008000\">'devops'</span>,\n",
       "            <span style=\"color: #008000; text-decoration-color: #008000\">'type'</span>: <span style=\"color: #008000; text-decoration-color: #008000\">'Account'</span>,\n",
       "            <span style=\"color: #008000; text-decoration-color: #008000\">'obj'</span>: <span style=\"font-weight: bold\">{</span>\n",
       "                <span style=\"color: #008000; text-decoration-color: #008000\">'id'</span>: <span style=\"color: #008000; text-decoration-color: #008000\">'444444444444'</span>,\n",
       "                <span style=\"color: #008000; text-decoration-color: #008000\">'arn'</span>: <span style=\"color: #800080; text-decoration-color: #800080; font-style: italic\">None</span>,\n",
       "                <span style=\"color: #008000; text-decoration-color: #008000\">'name'</span>: <span style=\"color: #008000; text-decoration-color: #008000\">'devops'</span>,\n",
       "                <span style=\"color: #008000; text-decoration-color: #008000\">'email'</span>: <span style=\"color: #800080; text-decoration-color: #800080; font-style: italic\">None</span>,\n",
       "                <span style=\"color: #008000; text-decoration-color: #008000\">'status'</span>: <span style=\"color: #800080; text-decoration-color: #800080; font-style: italic\">None</span>,\n",
       "                <span style=\"color: #008000; text-decoration-color: #008000\">'joined_method'</span>: <span style=\"color: #800080; text-decoration-color: #800080; font-style: italic\">None</span>,\n",
       "                <span style=\"color: #008000; text-decoration-color: #008000\">'joined_timestamp'</span>: <span style=\"color: #800080; text-decoration-color: #800080; font-style: italic\">None</span>,\n",
       "                <span style=\"color: #008000; text-decoration-color: #008000\">'root_id'</span>: <span style=\"color: #008000; text-decoration-color: #008000\">'r-123'</span>\n",
       "            <span style=\"font-weight: bold\">}</span>,\n",
       "            <span style=\"color: #008000; text-decoration-color: #008000\">'parent_id'</span>: <span style=\"color: #008000; text-decoration-color: #008000\">'ou-222'</span>\n",
       "        <span style=\"font-weight: bold\">}</span>,\n",
       "        <span style=\"font-weight: bold\">{</span>\n",
       "            <span style=\"color: #008000; text-decoration-color: #008000\">'id'</span>: <span style=\"color: #008000; text-decoration-color: #008000\">'555555555555'</span>,\n",
       "            <span style=\"color: #008000; text-decoration-color: #008000\">'name'</span>: <span style=\"color: #008000; text-decoration-color: #008000\">'app-dev'</span>,\n",
       "            <span style=\"color: #008000; text-decoration-color: #008000\">'type'</span>: <span style=\"color: #008000; text-decoration-color: #008000\">'Account'</span>,\n",
       "            <span style=\"color: #008000; text-decoration-color: #008000\">'obj'</span>: <span style=\"font-weight: bold\">{</span>\n",
       "                <span style=\"color: #008000; text-decoration-color: #008000\">'id'</span>: <span style=\"color: #008000; text-decoration-color: #008000\">'555555555555'</span>,\n",
       "                <span style=\"color: #008000; text-decoration-color: #008000\">'arn'</span>: <span style=\"color: #800080; text-decoration-color: #800080; font-style: italic\">None</span>,\n",
       "                <span style=\"color: #008000; text-decoration-color: #008000\">'name'</span>: <span style=\"color: #008000; text-decoration-color: #008000\">'app-dev'</span>,\n",
       "                <span style=\"color: #008000; text-decoration-color: #008000\">'email'</span>: <span style=\"color: #800080; text-decoration-color: #800080; font-style: italic\">None</span>,\n",
       "                <span style=\"color: #008000; text-decoration-color: #008000\">'status'</span>: <span style=\"color: #800080; text-decoration-color: #800080; font-style: italic\">None</span>,\n",
       "                <span style=\"color: #008000; text-decoration-color: #008000\">'joined_method'</span>: <span style=\"color: #800080; text-decoration-color: #800080; font-style: italic\">None</span>,\n",
       "                <span style=\"color: #008000; text-decoration-color: #008000\">'joined_timestamp'</span>: <span style=\"color: #800080; text-decoration-color: #800080; font-style: italic\">None</span>,\n",
       "                <span style=\"color: #008000; text-decoration-color: #008000\">'root_id'</span>: <span style=\"color: #008000; text-decoration-color: #008000\">'r-123'</span>\n",
       "            <span style=\"font-weight: bold\">}</span>,\n",
       "            <span style=\"color: #008000; text-decoration-color: #008000\">'parent_id'</span>: <span style=\"color: #008000; text-decoration-color: #008000\">'ou-222'</span>\n",
       "        <span style=\"font-weight: bold\">}</span>,\n",
       "        <span style=\"font-weight: bold\">{</span>\n",
       "            <span style=\"color: #008000; text-decoration-color: #008000\">'id'</span>: <span style=\"color: #008000; text-decoration-color: #008000\">'666666666666'</span>,\n",
       "            <span style=\"color: #008000; text-decoration-color: #008000\">'name'</span>: <span style=\"color: #008000; text-decoration-color: #008000\">'app-test'</span>,\n",
       "            <span style=\"color: #008000; text-decoration-color: #008000\">'type'</span>: <span style=\"color: #008000; text-decoration-color: #008000\">'Account'</span>,\n",
       "            <span style=\"color: #008000; text-decoration-color: #008000\">'obj'</span>: <span style=\"font-weight: bold\">{</span>\n",
       "                <span style=\"color: #008000; text-decoration-color: #008000\">'id'</span>: <span style=\"color: #008000; text-decoration-color: #008000\">'666666666666'</span>,\n",
       "                <span style=\"color: #008000; text-decoration-color: #008000\">'arn'</span>: <span style=\"color: #800080; text-decoration-color: #800080; font-style: italic\">None</span>,\n",
       "                <span style=\"color: #008000; text-decoration-color: #008000\">'name'</span>: <span style=\"color: #008000; text-decoration-color: #008000\">'app-test'</span>,\n",
       "                <span style=\"color: #008000; text-decoration-color: #008000\">'email'</span>: <span style=\"color: #800080; text-decoration-color: #800080; font-style: italic\">None</span>,\n",
       "                <span style=\"color: #008000; text-decoration-color: #008000\">'status'</span>: <span style=\"color: #800080; text-decoration-color: #800080; font-style: italic\">None</span>,\n",
       "                <span style=\"color: #008000; text-decoration-color: #008000\">'joined_method'</span>: <span style=\"color: #800080; text-decoration-color: #800080; font-style: italic\">None</span>,\n",
       "                <span style=\"color: #008000; text-decoration-color: #008000\">'joined_timestamp'</span>: <span style=\"color: #800080; text-decoration-color: #800080; font-style: italic\">None</span>,\n",
       "                <span style=\"color: #008000; text-decoration-color: #008000\">'root_id'</span>: <span style=\"color: #008000; text-decoration-color: #008000\">'r-123'</span>\n",
       "            <span style=\"font-weight: bold\">}</span>,\n",
       "            <span style=\"color: #008000; text-decoration-color: #008000\">'parent_id'</span>: <span style=\"color: #008000; text-decoration-color: #008000\">'ou-222'</span>\n",
       "        <span style=\"font-weight: bold\">}</span>,\n",
       "        <span style=\"font-weight: bold\">{</span>\n",
       "            <span style=\"color: #008000; text-decoration-color: #008000\">'id'</span>: <span style=\"color: #008000; text-decoration-color: #008000\">'777777777777'</span>,\n",
       "            <span style=\"color: #008000; text-decoration-color: #008000\">'name'</span>: <span style=\"color: #008000; text-decoration-color: #008000\">'app-prod'</span>,\n",
       "            <span style=\"color: #008000; text-decoration-color: #008000\">'type'</span>: <span style=\"color: #008000; text-decoration-color: #008000\">'Account'</span>,\n",
       "            <span style=\"color: #008000; text-decoration-color: #008000\">'obj'</span>: <span style=\"font-weight: bold\">{</span>\n",
       "                <span style=\"color: #008000; text-decoration-color: #008000\">'id'</span>: <span style=\"color: #008000; text-decoration-color: #008000\">'777777777777'</span>,\n",
       "                <span style=\"color: #008000; text-decoration-color: #008000\">'arn'</span>: <span style=\"color: #800080; text-decoration-color: #800080; font-style: italic\">None</span>,\n",
       "                <span style=\"color: #008000; text-decoration-color: #008000\">'name'</span>: <span style=\"color: #008000; text-decoration-color: #008000\">'app-prod'</span>,\n",
       "                <span style=\"color: #008000; text-decoration-color: #008000\">'email'</span>: <span style=\"color: #800080; text-decoration-color: #800080; font-style: italic\">None</span>,\n",
       "                <span style=\"color: #008000; text-decoration-color: #008000\">'status'</span>: <span style=\"color: #800080; text-decoration-color: #800080; font-style: italic\">None</span>,\n",
       "                <span style=\"color: #008000; text-decoration-color: #008000\">'joined_method'</span>: <span style=\"color: #800080; text-decoration-color: #800080; font-style: italic\">None</span>,\n",
       "                <span style=\"color: #008000; text-decoration-color: #008000\">'joined_timestamp'</span>: <span style=\"color: #800080; text-decoration-color: #800080; font-style: italic\">None</span>,\n",
       "                <span style=\"color: #008000; text-decoration-color: #008000\">'root_id'</span>: <span style=\"color: #008000; text-decoration-color: #008000\">'r-123'</span>\n",
       "            <span style=\"font-weight: bold\">}</span>,\n",
       "            <span style=\"color: #008000; text-decoration-color: #008000\">'parent_id'</span>: <span style=\"color: #008000; text-decoration-color: #008000\">'ou-222'</span>\n",
       "        <span style=\"font-weight: bold\">}</span>\n",
       "    <span style=\"font-weight: bold\">]</span>\n",
       "<span style=\"font-weight: bold\">}</span>\n",
       "</pre>\n"
      ],
      "text/plain": [
       "\u001b[1m{\u001b[0m\n",
       "    \u001b[32m'entities'\u001b[0m: \u001b[1m[\u001b[0m\n",
       "        \u001b[1m{\u001b[0m\n",
       "            \u001b[32m'id'\u001b[0m: \u001b[32m'o-789'\u001b[0m,\n",
       "            \u001b[32m'name'\u001b[0m: \u001b[32m'root'\u001b[0m,\n",
       "            \u001b[32m'type'\u001b[0m: \u001b[32m'Root'\u001b[0m,\n",
       "            \u001b[32m'obj'\u001b[0m: \u001b[1m{\u001b[0m\n",
       "                \u001b[32m'id'\u001b[0m: \u001b[32m'o-789'\u001b[0m,\n",
       "                \u001b[32m'arn'\u001b[0m: \u001b[3;35mNone\u001b[0m,\n",
       "                \u001b[32m'feature_set'\u001b[0m: \u001b[3;35mNone\u001b[0m,\n",
       "                \u001b[32m'master_account_arn'\u001b[0m: \u001b[3;35mNone\u001b[0m,\n",
       "                \u001b[32m'master_account_id'\u001b[0m: \u001b[3;35mNone\u001b[0m,\n",
       "                \u001b[32m'master_account_email'\u001b[0m: \u001b[3;35mNone\u001b[0m,\n",
       "                \u001b[32m'available_policy_types'\u001b[0m: \u001b[1m[\u001b[0m\u001b[1m]\u001b[0m,\n",
       "                \u001b[32m'root_id'\u001b[0m: \u001b[32m'r-123'\u001b[0m\n",
       "            \u001b[1m}\u001b[0m,\n",
       "            \u001b[32m'parent_id'\u001b[0m: \u001b[3;35mNone\u001b[0m\n",
       "        \u001b[1m}\u001b[0m,\n",
       "        \u001b[1m{\u001b[0m\n",
       "            \u001b[32m'id'\u001b[0m: \u001b[32m'111111111111'\u001b[0m,\n",
       "            \u001b[32m'name'\u001b[0m: \u001b[32m'admin'\u001b[0m,\n",
       "            \u001b[32m'type'\u001b[0m: \u001b[32m'Account'\u001b[0m,\n",
       "            \u001b[32m'obj'\u001b[0m: \u001b[1m{\u001b[0m\n",
       "                \u001b[32m'id'\u001b[0m: \u001b[32m'111111111111'\u001b[0m,\n",
       "                \u001b[32m'arn'\u001b[0m: \u001b[3;35mNone\u001b[0m,\n",
       "                \u001b[32m'name'\u001b[0m: \u001b[32m'admin'\u001b[0m,\n",
       "                \u001b[32m'email'\u001b[0m: \u001b[3;35mNone\u001b[0m,\n",
       "                \u001b[32m'status'\u001b[0m: \u001b[3;35mNone\u001b[0m,\n",
       "                \u001b[32m'joined_method'\u001b[0m: \u001b[3;35mNone\u001b[0m,\n",
       "                \u001b[32m'joined_timestamp'\u001b[0m: \u001b[3;35mNone\u001b[0m,\n",
       "                \u001b[32m'root_id'\u001b[0m: \u001b[32m'r-123'\u001b[0m\n",
       "            \u001b[1m}\u001b[0m,\n",
       "            \u001b[32m'parent_id'\u001b[0m: \u001b[32m'o-789'\u001b[0m\n",
       "        \u001b[1m}\u001b[0m,\n",
       "        \u001b[1m{\u001b[0m\n",
       "            \u001b[32m'id'\u001b[0m: \u001b[32m'ou-111'\u001b[0m,\n",
       "            \u001b[32m'name'\u001b[0m: \u001b[32m'Security'\u001b[0m,\n",
       "            \u001b[32m'type'\u001b[0m: \u001b[32m'OrgUnit'\u001b[0m,\n",
       "            \u001b[32m'obj'\u001b[0m: \u001b[1m{\u001b[0m\u001b[32m'id'\u001b[0m: \u001b[32m'ou-111'\u001b[0m, \u001b[32m'arn'\u001b[0m: \u001b[3;35mNone\u001b[0m, \u001b[32m'name'\u001b[0m: \u001b[32m'Security'\u001b[0m, \u001b[32m'root_id'\u001b[0m: \u001b[32m'r-123'\u001b[0m\u001b[1m}\u001b[0m,\n",
       "            \u001b[32m'parent_id'\u001b[0m: \u001b[32m'o-789'\u001b[0m\n",
       "        \u001b[1m}\u001b[0m,\n",
       "        \u001b[1m{\u001b[0m\n",
       "            \u001b[32m'id'\u001b[0m: \u001b[32m'222222222222'\u001b[0m,\n",
       "            \u001b[32m'name'\u001b[0m: \u001b[32m'sec_login'\u001b[0m,\n",
       "            \u001b[32m'type'\u001b[0m: \u001b[32m'Account'\u001b[0m,\n",
       "            \u001b[32m'obj'\u001b[0m: \u001b[1m{\u001b[0m\n",
       "                \u001b[32m'id'\u001b[0m: \u001b[32m'222222222222'\u001b[0m,\n",
       "                \u001b[32m'arn'\u001b[0m: \u001b[3;35mNone\u001b[0m,\n",
       "                \u001b[32m'name'\u001b[0m: \u001b[32m'sec_login'\u001b[0m,\n",
       "                \u001b[32m'email'\u001b[0m: \u001b[3;35mNone\u001b[0m,\n",
       "                \u001b[32m'status'\u001b[0m: \u001b[3;35mNone\u001b[0m,\n",
       "                \u001b[32m'joined_method'\u001b[0m: \u001b[3;35mNone\u001b[0m,\n",
       "                \u001b[32m'joined_timestamp'\u001b[0m: \u001b[3;35mNone\u001b[0m,\n",
       "                \u001b[32m'root_id'\u001b[0m: \u001b[32m'r-123'\u001b[0m\n",
       "            \u001b[1m}\u001b[0m,\n",
       "            \u001b[32m'parent_id'\u001b[0m: \u001b[32m'ou-111'\u001b[0m\n",
       "        \u001b[1m}\u001b[0m,\n",
       "        \u001b[1m{\u001b[0m\n",
       "            \u001b[32m'id'\u001b[0m: \u001b[32m'333333333333'\u001b[0m,\n",
       "            \u001b[32m'name'\u001b[0m: \u001b[32m'sec_audit'\u001b[0m,\n",
       "            \u001b[32m'type'\u001b[0m: \u001b[32m'Account'\u001b[0m,\n",
       "            \u001b[32m'obj'\u001b[0m: \u001b[1m{\u001b[0m\n",
       "                \u001b[32m'id'\u001b[0m: \u001b[32m'333333333333'\u001b[0m,\n",
       "                \u001b[32m'arn'\u001b[0m: \u001b[3;35mNone\u001b[0m,\n",
       "                \u001b[32m'name'\u001b[0m: \u001b[32m'sec_audit'\u001b[0m,\n",
       "                \u001b[32m'email'\u001b[0m: \u001b[3;35mNone\u001b[0m,\n",
       "                \u001b[32m'status'\u001b[0m: \u001b[3;35mNone\u001b[0m,\n",
       "                \u001b[32m'joined_method'\u001b[0m: \u001b[3;35mNone\u001b[0m,\n",
       "                \u001b[32m'joined_timestamp'\u001b[0m: \u001b[3;35mNone\u001b[0m,\n",
       "                \u001b[32m'root_id'\u001b[0m: \u001b[32m'r-123'\u001b[0m\n",
       "            \u001b[1m}\u001b[0m,\n",
       "            \u001b[32m'parent_id'\u001b[0m: \u001b[32m'ou-111'\u001b[0m\n",
       "        \u001b[1m}\u001b[0m,\n",
       "        \u001b[1m{\u001b[0m\n",
       "            \u001b[32m'id'\u001b[0m: \u001b[32m'ou-222'\u001b[0m,\n",
       "            \u001b[32m'name'\u001b[0m: \u001b[32m'Application'\u001b[0m,\n",
       "            \u001b[32m'type'\u001b[0m: \u001b[32m'OrgUnit'\u001b[0m,\n",
       "            \u001b[32m'obj'\u001b[0m: \u001b[1m{\u001b[0m\u001b[32m'id'\u001b[0m: \u001b[32m'ou-222'\u001b[0m, \u001b[32m'arn'\u001b[0m: \u001b[3;35mNone\u001b[0m, \u001b[32m'name'\u001b[0m: \u001b[32m'Application'\u001b[0m, \u001b[32m'root_id'\u001b[0m: \u001b[32m'r-123'\u001b[0m\u001b[1m}\u001b[0m,\n",
       "            \u001b[32m'parent_id'\u001b[0m: \u001b[32m'o-789'\u001b[0m\n",
       "        \u001b[1m}\u001b[0m,\n",
       "        \u001b[1m{\u001b[0m\n",
       "            \u001b[32m'id'\u001b[0m: \u001b[32m'444444444444'\u001b[0m,\n",
       "            \u001b[32m'name'\u001b[0m: \u001b[32m'devops'\u001b[0m,\n",
       "            \u001b[32m'type'\u001b[0m: \u001b[32m'Account'\u001b[0m,\n",
       "            \u001b[32m'obj'\u001b[0m: \u001b[1m{\u001b[0m\n",
       "                \u001b[32m'id'\u001b[0m: \u001b[32m'444444444444'\u001b[0m,\n",
       "                \u001b[32m'arn'\u001b[0m: \u001b[3;35mNone\u001b[0m,\n",
       "                \u001b[32m'name'\u001b[0m: \u001b[32m'devops'\u001b[0m,\n",
       "                \u001b[32m'email'\u001b[0m: \u001b[3;35mNone\u001b[0m,\n",
       "                \u001b[32m'status'\u001b[0m: \u001b[3;35mNone\u001b[0m,\n",
       "                \u001b[32m'joined_method'\u001b[0m: \u001b[3;35mNone\u001b[0m,\n",
       "                \u001b[32m'joined_timestamp'\u001b[0m: \u001b[3;35mNone\u001b[0m,\n",
       "                \u001b[32m'root_id'\u001b[0m: \u001b[32m'r-123'\u001b[0m\n",
       "            \u001b[1m}\u001b[0m,\n",
       "            \u001b[32m'parent_id'\u001b[0m: \u001b[32m'ou-222'\u001b[0m\n",
       "        \u001b[1m}\u001b[0m,\n",
       "        \u001b[1m{\u001b[0m\n",
       "            \u001b[32m'id'\u001b[0m: \u001b[32m'555555555555'\u001b[0m,\n",
       "            \u001b[32m'name'\u001b[0m: \u001b[32m'app-dev'\u001b[0m,\n",
       "            \u001b[32m'type'\u001b[0m: \u001b[32m'Account'\u001b[0m,\n",
       "            \u001b[32m'obj'\u001b[0m: \u001b[1m{\u001b[0m\n",
       "                \u001b[32m'id'\u001b[0m: \u001b[32m'555555555555'\u001b[0m,\n",
       "                \u001b[32m'arn'\u001b[0m: \u001b[3;35mNone\u001b[0m,\n",
       "                \u001b[32m'name'\u001b[0m: \u001b[32m'app-dev'\u001b[0m,\n",
       "                \u001b[32m'email'\u001b[0m: \u001b[3;35mNone\u001b[0m,\n",
       "                \u001b[32m'status'\u001b[0m: \u001b[3;35mNone\u001b[0m,\n",
       "                \u001b[32m'joined_method'\u001b[0m: \u001b[3;35mNone\u001b[0m,\n",
       "                \u001b[32m'joined_timestamp'\u001b[0m: \u001b[3;35mNone\u001b[0m,\n",
       "                \u001b[32m'root_id'\u001b[0m: \u001b[32m'r-123'\u001b[0m\n",
       "            \u001b[1m}\u001b[0m,\n",
       "            \u001b[32m'parent_id'\u001b[0m: \u001b[32m'ou-222'\u001b[0m\n",
       "        \u001b[1m}\u001b[0m,\n",
       "        \u001b[1m{\u001b[0m\n",
       "            \u001b[32m'id'\u001b[0m: \u001b[32m'666666666666'\u001b[0m,\n",
       "            \u001b[32m'name'\u001b[0m: \u001b[32m'app-test'\u001b[0m,\n",
       "            \u001b[32m'type'\u001b[0m: \u001b[32m'Account'\u001b[0m,\n",
       "            \u001b[32m'obj'\u001b[0m: \u001b[1m{\u001b[0m\n",
       "                \u001b[32m'id'\u001b[0m: \u001b[32m'666666666666'\u001b[0m,\n",
       "                \u001b[32m'arn'\u001b[0m: \u001b[3;35mNone\u001b[0m,\n",
       "                \u001b[32m'name'\u001b[0m: \u001b[32m'app-test'\u001b[0m,\n",
       "                \u001b[32m'email'\u001b[0m: \u001b[3;35mNone\u001b[0m,\n",
       "                \u001b[32m'status'\u001b[0m: \u001b[3;35mNone\u001b[0m,\n",
       "                \u001b[32m'joined_method'\u001b[0m: \u001b[3;35mNone\u001b[0m,\n",
       "                \u001b[32m'joined_timestamp'\u001b[0m: \u001b[3;35mNone\u001b[0m,\n",
       "                \u001b[32m'root_id'\u001b[0m: \u001b[32m'r-123'\u001b[0m\n",
       "            \u001b[1m}\u001b[0m,\n",
       "            \u001b[32m'parent_id'\u001b[0m: \u001b[32m'ou-222'\u001b[0m\n",
       "        \u001b[1m}\u001b[0m,\n",
       "        \u001b[1m{\u001b[0m\n",
       "            \u001b[32m'id'\u001b[0m: \u001b[32m'777777777777'\u001b[0m,\n",
       "            \u001b[32m'name'\u001b[0m: \u001b[32m'app-prod'\u001b[0m,\n",
       "            \u001b[32m'type'\u001b[0m: \u001b[32m'Account'\u001b[0m,\n",
       "            \u001b[32m'obj'\u001b[0m: \u001b[1m{\u001b[0m\n",
       "                \u001b[32m'id'\u001b[0m: \u001b[32m'777777777777'\u001b[0m,\n",
       "                \u001b[32m'arn'\u001b[0m: \u001b[3;35mNone\u001b[0m,\n",
       "                \u001b[32m'name'\u001b[0m: \u001b[32m'app-prod'\u001b[0m,\n",
       "                \u001b[32m'email'\u001b[0m: \u001b[3;35mNone\u001b[0m,\n",
       "                \u001b[32m'status'\u001b[0m: \u001b[3;35mNone\u001b[0m,\n",
       "                \u001b[32m'joined_method'\u001b[0m: \u001b[3;35mNone\u001b[0m,\n",
       "                \u001b[32m'joined_timestamp'\u001b[0m: \u001b[3;35mNone\u001b[0m,\n",
       "                \u001b[32m'root_id'\u001b[0m: \u001b[32m'r-123'\u001b[0m\n",
       "            \u001b[1m}\u001b[0m,\n",
       "            \u001b[32m'parent_id'\u001b[0m: \u001b[32m'ou-222'\u001b[0m\n",
       "        \u001b[1m}\u001b[0m\n",
       "    \u001b[1m]\u001b[0m\n",
       "\u001b[1m}\u001b[0m\n"
      ]
     },
     "metadata": {},
     "output_type": "display_data"
    }
   ],
   "source": [
    "rprint(org_struct.serialize())"
   ]
  },
  {
   "cell_type": "markdown",
   "id": "bef9d0256049a7ff",
   "metadata": {
    "collapsed": false,
    "jupyter": {
     "outputs_hidden": false
    }
   },
   "source": [
    "You can dump the organization structure to Ascii Table."
   ]
  },
  {
   "cell_type": "code",
   "execution_count": 6,
   "id": "6c9ab58308fb45b0",
   "metadata": {
    "ExecuteTime": {
     "end_time": "2024-11-11T16:12:49.873982Z",
     "start_time": "2024-11-11T16:12:49.870330Z"
    },
    "collapsed": false,
    "jupyter": {
     "outputs_hidden": false
    }
   },
   "outputs": [
    {
     "data": {
      "text/html": [
       "<pre style=\"white-space:pre;overflow-x:auto;line-height:normal;font-family:Menlo,'DejaVu Sans Mono',consolas,'Courier New',monospace\">+---------+-------------------------------+--------------+------------+----------+\n",
       "| Type    | Path                          | Id           | ParentId   | RootId   |\n",
       "+=========+===============================+==============+============+==========+\n",
       "| Root    | root                          | o-<span style=\"color: #008080; text-decoration-color: #008080; font-weight: bold\">789</span>        | <span style=\"color: #800080; text-decoration-color: #800080; font-style: italic\">None</span>       | r-<span style=\"color: #008080; text-decoration-color: #008080; font-weight: bold\">123</span>    |\n",
       "+---------+-------------------------------+--------------+------------+----------+\n",
       "| Account | root | admin                  | <span style=\"color: #008080; text-decoration-color: #008080; font-weight: bold\">111111111111</span> | o-<span style=\"color: #008080; text-decoration-color: #008080; font-weight: bold\">789</span>      | r-<span style=\"color: #008080; text-decoration-color: #008080; font-weight: bold\">123</span>    |\n",
       "+---------+-------------------------------+--------------+------------+----------+\n",
       "| OrgUnit | root | Security               | ou-<span style=\"color: #008080; text-decoration-color: #008080; font-weight: bold\">111</span>       | o-<span style=\"color: #008080; text-decoration-color: #008080; font-weight: bold\">789</span>      | r-<span style=\"color: #008080; text-decoration-color: #008080; font-weight: bold\">123</span>    |\n",
       "+---------+-------------------------------+--------------+------------+----------+\n",
       "| Account | root | Security | sec_login   | <span style=\"color: #008080; text-decoration-color: #008080; font-weight: bold\">222222222222</span> | ou-<span style=\"color: #008080; text-decoration-color: #008080; font-weight: bold\">111</span>     | r-<span style=\"color: #008080; text-decoration-color: #008080; font-weight: bold\">123</span>    |\n",
       "+---------+-------------------------------+--------------+------------+----------+\n",
       "| Account | root | Security | sec_audit   | <span style=\"color: #008080; text-decoration-color: #008080; font-weight: bold\">333333333333</span> | ou-<span style=\"color: #008080; text-decoration-color: #008080; font-weight: bold\">111</span>     | r-<span style=\"color: #008080; text-decoration-color: #008080; font-weight: bold\">123</span>    |\n",
       "+---------+-------------------------------+--------------+------------+----------+\n",
       "| OrgUnit | root | Application            | ou-<span style=\"color: #008080; text-decoration-color: #008080; font-weight: bold\">222</span>       | o-<span style=\"color: #008080; text-decoration-color: #008080; font-weight: bold\">789</span>      | r-<span style=\"color: #008080; text-decoration-color: #008080; font-weight: bold\">123</span>    |\n",
       "+---------+-------------------------------+--------------+------------+----------+\n",
       "| Account | root | Application | devops   | <span style=\"color: #008080; text-decoration-color: #008080; font-weight: bold\">444444444444</span> | ou-<span style=\"color: #008080; text-decoration-color: #008080; font-weight: bold\">222</span>     | r-<span style=\"color: #008080; text-decoration-color: #008080; font-weight: bold\">123</span>    |\n",
       "+---------+-------------------------------+--------------+------------+----------+\n",
       "| Account | root | Application | app-dev  | <span style=\"color: #008080; text-decoration-color: #008080; font-weight: bold\">555555555555</span> | ou-<span style=\"color: #008080; text-decoration-color: #008080; font-weight: bold\">222</span>     | r-<span style=\"color: #008080; text-decoration-color: #008080; font-weight: bold\">123</span>    |\n",
       "+---------+-------------------------------+--------------+------------+----------+\n",
       "| Account | root | Application | app-test | <span style=\"color: #008080; text-decoration-color: #008080; font-weight: bold\">666666666666</span> | ou-<span style=\"color: #008080; text-decoration-color: #008080; font-weight: bold\">222</span>     | r-<span style=\"color: #008080; text-decoration-color: #008080; font-weight: bold\">123</span>    |\n",
       "+---------+-------------------------------+--------------+------------+----------+\n",
       "| Account | root | Application | app-prod | <span style=\"color: #008080; text-decoration-color: #008080; font-weight: bold\">777777777777</span> | ou-<span style=\"color: #008080; text-decoration-color: #008080; font-weight: bold\">222</span>     | r-<span style=\"color: #008080; text-decoration-color: #008080; font-weight: bold\">123</span>    |\n",
       "+---------+-------------------------------+--------------+------------+----------+\n",
       "</pre>\n"
      ],
      "text/plain": [
       "+---------+-------------------------------+--------------+------------+----------+\n",
       "| Type    | Path                          | Id           | ParentId   | RootId   |\n",
       "+=========+===============================+==============+============+==========+\n",
       "| Root    | root                          | o-\u001b[1;36m789\u001b[0m        | \u001b[3;35mNone\u001b[0m       | r-\u001b[1;36m123\u001b[0m    |\n",
       "+---------+-------------------------------+--------------+------------+----------+\n",
       "| Account | root | admin                  | \u001b[1;36m111111111111\u001b[0m | o-\u001b[1;36m789\u001b[0m      | r-\u001b[1;36m123\u001b[0m    |\n",
       "+---------+-------------------------------+--------------+------------+----------+\n",
       "| OrgUnit | root | Security               | ou-\u001b[1;36m111\u001b[0m       | o-\u001b[1;36m789\u001b[0m      | r-\u001b[1;36m123\u001b[0m    |\n",
       "+---------+-------------------------------+--------------+------------+----------+\n",
       "| Account | root | Security | sec_login   | \u001b[1;36m222222222222\u001b[0m | ou-\u001b[1;36m111\u001b[0m     | r-\u001b[1;36m123\u001b[0m    |\n",
       "+---------+-------------------------------+--------------+------------+----------+\n",
       "| Account | root | Security | sec_audit   | \u001b[1;36m333333333333\u001b[0m | ou-\u001b[1;36m111\u001b[0m     | r-\u001b[1;36m123\u001b[0m    |\n",
       "+---------+-------------------------------+--------------+------------+----------+\n",
       "| OrgUnit | root | Application            | ou-\u001b[1;36m222\u001b[0m       | o-\u001b[1;36m789\u001b[0m      | r-\u001b[1;36m123\u001b[0m    |\n",
       "+---------+-------------------------------+--------------+------------+----------+\n",
       "| Account | root | Application | devops   | \u001b[1;36m444444444444\u001b[0m | ou-\u001b[1;36m222\u001b[0m     | r-\u001b[1;36m123\u001b[0m    |\n",
       "+---------+-------------------------------+--------------+------------+----------+\n",
       "| Account | root | Application | app-dev  | \u001b[1;36m555555555555\u001b[0m | ou-\u001b[1;36m222\u001b[0m     | r-\u001b[1;36m123\u001b[0m    |\n",
       "+---------+-------------------------------+--------------+------------+----------+\n",
       "| Account | root | Application | app-test | \u001b[1;36m666666666666\u001b[0m | ou-\u001b[1;36m222\u001b[0m     | r-\u001b[1;36m123\u001b[0m    |\n",
       "+---------+-------------------------------+--------------+------------+----------+\n",
       "| Account | root | Application | app-prod | \u001b[1;36m777777777777\u001b[0m | ou-\u001b[1;36m222\u001b[0m     | r-\u001b[1;36m123\u001b[0m    |\n",
       "+---------+-------------------------------+--------------+------------+----------+\n"
      ]
     },
     "metadata": {},
     "output_type": "display_data"
    }
   ],
   "source": [
    "headers, rows = org_struct.to_csv_data()\n",
    "rprint(tabulate(rows, headers=headers, tablefmt=\"grid\"))"
   ]
  },
  {
   "cell_type": "markdown",
   "id": "1e4327dc42cf35c1",
   "metadata": {
    "collapsed": false,
    "jupyter": {
     "outputs_hidden": false
    }
   },
   "source": [
    "You can dump the organization structure to [Mermaid Diagram](https://mermaid.live/edit) syntax."
   ]
  },
  {
   "cell_type": "code",
   "execution_count": 7,
   "id": "576cb15d6ad176ab",
   "metadata": {
    "ExecuteTime": {
     "end_time": "2024-11-11T16:12:50.974858Z",
     "start_time": "2024-11-11T16:12:50.971027Z"
    },
    "collapsed": false,
    "jupyter": {
     "outputs_hidden": false
    }
   },
   "outputs": [
    {
     "name": "stdout",
     "output_type": "stream",
     "text": [
      "graph TD\n",
      "%% AWS Organization Structure Mermaid Diagram\n",
      "%% paste the following content to https://mermaid.live/edit to visualize\n",
      "%% Circle = Organization | Organization Unit\n",
      "%% Square = AWS Account\n",
      "N0((\"root\n",
      "(o-789)\"))\n",
      "N1[\"admin\n",
      "(111111111111)\"]\n",
      "N2((\"Security\n",
      "(ou-111)\"))\n",
      "N3[\"sec_login\n",
      "(222222222222)\"]\n",
      "N4[\"sec_audit\n",
      "(333333333333)\"]\n",
      "N5((\"Application\n",
      "(ou-222)\"))\n",
      "N6[\"devops\n",
      "(444444444444)\"]\n",
      "N7[\"app-dev\n",
      "(555555555555)\"]\n",
      "N8[\"app-test\n",
      "(666666666666)\"]\n",
      "N9[\"app-prod\n",
      "(777777777777)\"]\n",
      "N0-->N1\n",
      "N0-->N2\n",
      "N0-->N5\n",
      "N2-->N3\n",
      "N2-->N4\n",
      "N5-->N6\n",
      "N5-->N7\n",
      "N5-->N8\n",
      "N5-->N9\n"
     ]
    }
   ],
   "source": [
    "print(org_struct.to_mermaid())"
   ]
  },
  {
   "cell_type": "markdown",
   "id": "c3710f7d251f88c",
   "metadata": {
    "collapsed": false,
    "jupyter": {
     "outputs_hidden": false
    }
   },
   "source": [
    "Here's the Mermaid Diagram for the organization structure.\n",
    "\n",
    "![](./mermaid-diagram.png)"
   ]
  },
  {
   "cell_type": "markdown",
   "id": "5b2761efa38ad78b",
   "metadata": {
    "collapsed": false,
    "jupyter": {
     "outputs_hidden": false
    }
   },
   "source": [
    "## Manipulate the Organization Structure\n",
    "\n",
    "- ``accounts``: direct child accounts\n",
    "- ``org_units``: direct child organization units\n",
    "- ``all_accounts``: recursively get all accounts\n",
    "- ``all_org_units``: recursively get all organization units\n",
    "\n",
    "## Iterate AWS Accounts\n",
    "\n",
    "Only direct child accounts in this node. "
   ]
  },
  {
   "cell_type": "code",
   "execution_count": 8,
   "id": "14dd99177df6e90a",
   "metadata": {
    "ExecuteTime": {
     "end_time": "2024-11-11T16:14:29.668771Z",
     "start_time": "2024-11-11T16:14:29.665409Z"
    },
    "collapsed": false,
    "jupyter": {
     "outputs_hidden": false
    }
   },
   "outputs": [
    {
     "data": {
      "text/html": [
       "<pre style=\"white-space:pre;overflow-x:auto;line-height:normal;font-family:Menlo,'DejaVu Sans Mono',consolas,'Courier New',monospace\"><span style=\"font-weight: bold\">[</span>\n",
       "    <span style=\"color: #800080; text-decoration-color: #800080; font-weight: bold\">Account</span><span style=\"font-weight: bold\">(</span>\n",
       "        <span style=\"color: #808000; text-decoration-color: #808000\">id</span>=<span style=\"color: #008000; text-decoration-color: #008000\">'111111111111'</span>,\n",
       "        <span style=\"color: #808000; text-decoration-color: #808000\">arn</span>=<span style=\"color: #800080; text-decoration-color: #800080; font-style: italic\">None</span>,\n",
       "        <span style=\"color: #808000; text-decoration-color: #808000\">name</span>=<span style=\"color: #008000; text-decoration-color: #008000\">'admin'</span>,\n",
       "        <span style=\"color: #808000; text-decoration-color: #808000\">email</span>=<span style=\"color: #800080; text-decoration-color: #800080; font-style: italic\">None</span>,\n",
       "        <span style=\"color: #808000; text-decoration-color: #808000\">status</span>=<span style=\"color: #800080; text-decoration-color: #800080; font-style: italic\">None</span>,\n",
       "        <span style=\"color: #808000; text-decoration-color: #808000\">joined_method</span>=<span style=\"color: #800080; text-decoration-color: #800080; font-style: italic\">None</span>,\n",
       "        <span style=\"color: #808000; text-decoration-color: #808000\">joined_timestamp</span>=<span style=\"color: #800080; text-decoration-color: #800080; font-style: italic\">None</span>,\n",
       "        <span style=\"color: #808000; text-decoration-color: #808000\">root_id</span>=<span style=\"color: #008000; text-decoration-color: #008000\">'r-123'</span>\n",
       "    <span style=\"font-weight: bold\">)</span>\n",
       "<span style=\"font-weight: bold\">]</span>\n",
       "</pre>\n"
      ],
      "text/plain": [
       "\u001b[1m[\u001b[0m\n",
       "    \u001b[1;35mAccount\u001b[0m\u001b[1m(\u001b[0m\n",
       "        \u001b[33mid\u001b[0m=\u001b[32m'111111111111'\u001b[0m,\n",
       "        \u001b[33marn\u001b[0m=\u001b[3;35mNone\u001b[0m,\n",
       "        \u001b[33mname\u001b[0m=\u001b[32m'admin'\u001b[0m,\n",
       "        \u001b[33memail\u001b[0m=\u001b[3;35mNone\u001b[0m,\n",
       "        \u001b[33mstatus\u001b[0m=\u001b[3;35mNone\u001b[0m,\n",
       "        \u001b[33mjoined_method\u001b[0m=\u001b[3;35mNone\u001b[0m,\n",
       "        \u001b[33mjoined_timestamp\u001b[0m=\u001b[3;35mNone\u001b[0m,\n",
       "        \u001b[33mroot_id\u001b[0m=\u001b[32m'r-123'\u001b[0m\n",
       "    \u001b[1m)\u001b[0m\n",
       "\u001b[1m]\u001b[0m\n"
      ]
     },
     "metadata": {},
     "output_type": "display_data"
    }
   ],
   "source": [
    "rprint(org_struct.root.accounts)"
   ]
  },
  {
   "cell_type": "markdown",
   "id": "9701734c7462dbb9",
   "metadata": {
    "collapsed": false,
    "jupyter": {
     "outputs_hidden": false
    }
   },
   "source": [
    "Recursively iterate all accounts"
   ]
  },
  {
   "cell_type": "code",
   "execution_count": 9,
   "id": "8e0291679a052dc5",
   "metadata": {
    "ExecuteTime": {
     "end_time": "2024-11-11T16:14:53.330290Z",
     "start_time": "2024-11-11T16:14:53.326742Z"
    },
    "collapsed": false,
    "jupyter": {
     "outputs_hidden": false
    }
   },
   "outputs": [
    {
     "data": {
      "text/html": [
       "<pre style=\"white-space:pre;overflow-x:auto;line-height:normal;font-family:Menlo,'DejaVu Sans Mono',consolas,'Courier New',monospace\"><span style=\"font-weight: bold\">[</span>\n",
       "    <span style=\"color: #800080; text-decoration-color: #800080; font-weight: bold\">Account</span><span style=\"font-weight: bold\">(</span>\n",
       "        <span style=\"color: #808000; text-decoration-color: #808000\">id</span>=<span style=\"color: #008000; text-decoration-color: #008000\">'111111111111'</span>,\n",
       "        <span style=\"color: #808000; text-decoration-color: #808000\">arn</span>=<span style=\"color: #800080; text-decoration-color: #800080; font-style: italic\">None</span>,\n",
       "        <span style=\"color: #808000; text-decoration-color: #808000\">name</span>=<span style=\"color: #008000; text-decoration-color: #008000\">'admin'</span>,\n",
       "        <span style=\"color: #808000; text-decoration-color: #808000\">email</span>=<span style=\"color: #800080; text-decoration-color: #800080; font-style: italic\">None</span>,\n",
       "        <span style=\"color: #808000; text-decoration-color: #808000\">status</span>=<span style=\"color: #800080; text-decoration-color: #800080; font-style: italic\">None</span>,\n",
       "        <span style=\"color: #808000; text-decoration-color: #808000\">joined_method</span>=<span style=\"color: #800080; text-decoration-color: #800080; font-style: italic\">None</span>,\n",
       "        <span style=\"color: #808000; text-decoration-color: #808000\">joined_timestamp</span>=<span style=\"color: #800080; text-decoration-color: #800080; font-style: italic\">None</span>,\n",
       "        <span style=\"color: #808000; text-decoration-color: #808000\">root_id</span>=<span style=\"color: #008000; text-decoration-color: #008000\">'r-123'</span>\n",
       "    <span style=\"font-weight: bold\">)</span>,\n",
       "    <span style=\"color: #800080; text-decoration-color: #800080; font-weight: bold\">Account</span><span style=\"font-weight: bold\">(</span>\n",
       "        <span style=\"color: #808000; text-decoration-color: #808000\">id</span>=<span style=\"color: #008000; text-decoration-color: #008000\">'222222222222'</span>,\n",
       "        <span style=\"color: #808000; text-decoration-color: #808000\">arn</span>=<span style=\"color: #800080; text-decoration-color: #800080; font-style: italic\">None</span>,\n",
       "        <span style=\"color: #808000; text-decoration-color: #808000\">name</span>=<span style=\"color: #008000; text-decoration-color: #008000\">'sec_login'</span>,\n",
       "        <span style=\"color: #808000; text-decoration-color: #808000\">email</span>=<span style=\"color: #800080; text-decoration-color: #800080; font-style: italic\">None</span>,\n",
       "        <span style=\"color: #808000; text-decoration-color: #808000\">status</span>=<span style=\"color: #800080; text-decoration-color: #800080; font-style: italic\">None</span>,\n",
       "        <span style=\"color: #808000; text-decoration-color: #808000\">joined_method</span>=<span style=\"color: #800080; text-decoration-color: #800080; font-style: italic\">None</span>,\n",
       "        <span style=\"color: #808000; text-decoration-color: #808000\">joined_timestamp</span>=<span style=\"color: #800080; text-decoration-color: #800080; font-style: italic\">None</span>,\n",
       "        <span style=\"color: #808000; text-decoration-color: #808000\">root_id</span>=<span style=\"color: #008000; text-decoration-color: #008000\">'r-123'</span>\n",
       "    <span style=\"font-weight: bold\">)</span>,\n",
       "    <span style=\"color: #800080; text-decoration-color: #800080; font-weight: bold\">Account</span><span style=\"font-weight: bold\">(</span>\n",
       "        <span style=\"color: #808000; text-decoration-color: #808000\">id</span>=<span style=\"color: #008000; text-decoration-color: #008000\">'333333333333'</span>,\n",
       "        <span style=\"color: #808000; text-decoration-color: #808000\">arn</span>=<span style=\"color: #800080; text-decoration-color: #800080; font-style: italic\">None</span>,\n",
       "        <span style=\"color: #808000; text-decoration-color: #808000\">name</span>=<span style=\"color: #008000; text-decoration-color: #008000\">'sec_audit'</span>,\n",
       "        <span style=\"color: #808000; text-decoration-color: #808000\">email</span>=<span style=\"color: #800080; text-decoration-color: #800080; font-style: italic\">None</span>,\n",
       "        <span style=\"color: #808000; text-decoration-color: #808000\">status</span>=<span style=\"color: #800080; text-decoration-color: #800080; font-style: italic\">None</span>,\n",
       "        <span style=\"color: #808000; text-decoration-color: #808000\">joined_method</span>=<span style=\"color: #800080; text-decoration-color: #800080; font-style: italic\">None</span>,\n",
       "        <span style=\"color: #808000; text-decoration-color: #808000\">joined_timestamp</span>=<span style=\"color: #800080; text-decoration-color: #800080; font-style: italic\">None</span>,\n",
       "        <span style=\"color: #808000; text-decoration-color: #808000\">root_id</span>=<span style=\"color: #008000; text-decoration-color: #008000\">'r-123'</span>\n",
       "    <span style=\"font-weight: bold\">)</span>,\n",
       "    <span style=\"color: #800080; text-decoration-color: #800080; font-weight: bold\">Account</span><span style=\"font-weight: bold\">(</span>\n",
       "        <span style=\"color: #808000; text-decoration-color: #808000\">id</span>=<span style=\"color: #008000; text-decoration-color: #008000\">'444444444444'</span>,\n",
       "        <span style=\"color: #808000; text-decoration-color: #808000\">arn</span>=<span style=\"color: #800080; text-decoration-color: #800080; font-style: italic\">None</span>,\n",
       "        <span style=\"color: #808000; text-decoration-color: #808000\">name</span>=<span style=\"color: #008000; text-decoration-color: #008000\">'devops'</span>,\n",
       "        <span style=\"color: #808000; text-decoration-color: #808000\">email</span>=<span style=\"color: #800080; text-decoration-color: #800080; font-style: italic\">None</span>,\n",
       "        <span style=\"color: #808000; text-decoration-color: #808000\">status</span>=<span style=\"color: #800080; text-decoration-color: #800080; font-style: italic\">None</span>,\n",
       "        <span style=\"color: #808000; text-decoration-color: #808000\">joined_method</span>=<span style=\"color: #800080; text-decoration-color: #800080; font-style: italic\">None</span>,\n",
       "        <span style=\"color: #808000; text-decoration-color: #808000\">joined_timestamp</span>=<span style=\"color: #800080; text-decoration-color: #800080; font-style: italic\">None</span>,\n",
       "        <span style=\"color: #808000; text-decoration-color: #808000\">root_id</span>=<span style=\"color: #008000; text-decoration-color: #008000\">'r-123'</span>\n",
       "    <span style=\"font-weight: bold\">)</span>,\n",
       "    <span style=\"color: #800080; text-decoration-color: #800080; font-weight: bold\">Account</span><span style=\"font-weight: bold\">(</span>\n",
       "        <span style=\"color: #808000; text-decoration-color: #808000\">id</span>=<span style=\"color: #008000; text-decoration-color: #008000\">'555555555555'</span>,\n",
       "        <span style=\"color: #808000; text-decoration-color: #808000\">arn</span>=<span style=\"color: #800080; text-decoration-color: #800080; font-style: italic\">None</span>,\n",
       "        <span style=\"color: #808000; text-decoration-color: #808000\">name</span>=<span style=\"color: #008000; text-decoration-color: #008000\">'app-dev'</span>,\n",
       "        <span style=\"color: #808000; text-decoration-color: #808000\">email</span>=<span style=\"color: #800080; text-decoration-color: #800080; font-style: italic\">None</span>,\n",
       "        <span style=\"color: #808000; text-decoration-color: #808000\">status</span>=<span style=\"color: #800080; text-decoration-color: #800080; font-style: italic\">None</span>,\n",
       "        <span style=\"color: #808000; text-decoration-color: #808000\">joined_method</span>=<span style=\"color: #800080; text-decoration-color: #800080; font-style: italic\">None</span>,\n",
       "        <span style=\"color: #808000; text-decoration-color: #808000\">joined_timestamp</span>=<span style=\"color: #800080; text-decoration-color: #800080; font-style: italic\">None</span>,\n",
       "        <span style=\"color: #808000; text-decoration-color: #808000\">root_id</span>=<span style=\"color: #008000; text-decoration-color: #008000\">'r-123'</span>\n",
       "    <span style=\"font-weight: bold\">)</span>,\n",
       "    <span style=\"color: #800080; text-decoration-color: #800080; font-weight: bold\">Account</span><span style=\"font-weight: bold\">(</span>\n",
       "        <span style=\"color: #808000; text-decoration-color: #808000\">id</span>=<span style=\"color: #008000; text-decoration-color: #008000\">'666666666666'</span>,\n",
       "        <span style=\"color: #808000; text-decoration-color: #808000\">arn</span>=<span style=\"color: #800080; text-decoration-color: #800080; font-style: italic\">None</span>,\n",
       "        <span style=\"color: #808000; text-decoration-color: #808000\">name</span>=<span style=\"color: #008000; text-decoration-color: #008000\">'app-test'</span>,\n",
       "        <span style=\"color: #808000; text-decoration-color: #808000\">email</span>=<span style=\"color: #800080; text-decoration-color: #800080; font-style: italic\">None</span>,\n",
       "        <span style=\"color: #808000; text-decoration-color: #808000\">status</span>=<span style=\"color: #800080; text-decoration-color: #800080; font-style: italic\">None</span>,\n",
       "        <span style=\"color: #808000; text-decoration-color: #808000\">joined_method</span>=<span style=\"color: #800080; text-decoration-color: #800080; font-style: italic\">None</span>,\n",
       "        <span style=\"color: #808000; text-decoration-color: #808000\">joined_timestamp</span>=<span style=\"color: #800080; text-decoration-color: #800080; font-style: italic\">None</span>,\n",
       "        <span style=\"color: #808000; text-decoration-color: #808000\">root_id</span>=<span style=\"color: #008000; text-decoration-color: #008000\">'r-123'</span>\n",
       "    <span style=\"font-weight: bold\">)</span>,\n",
       "    <span style=\"color: #800080; text-decoration-color: #800080; font-weight: bold\">Account</span><span style=\"font-weight: bold\">(</span>\n",
       "        <span style=\"color: #808000; text-decoration-color: #808000\">id</span>=<span style=\"color: #008000; text-decoration-color: #008000\">'777777777777'</span>,\n",
       "        <span style=\"color: #808000; text-decoration-color: #808000\">arn</span>=<span style=\"color: #800080; text-decoration-color: #800080; font-style: italic\">None</span>,\n",
       "        <span style=\"color: #808000; text-decoration-color: #808000\">name</span>=<span style=\"color: #008000; text-decoration-color: #008000\">'app-prod'</span>,\n",
       "        <span style=\"color: #808000; text-decoration-color: #808000\">email</span>=<span style=\"color: #800080; text-decoration-color: #800080; font-style: italic\">None</span>,\n",
       "        <span style=\"color: #808000; text-decoration-color: #808000\">status</span>=<span style=\"color: #800080; text-decoration-color: #800080; font-style: italic\">None</span>,\n",
       "        <span style=\"color: #808000; text-decoration-color: #808000\">joined_method</span>=<span style=\"color: #800080; text-decoration-color: #800080; font-style: italic\">None</span>,\n",
       "        <span style=\"color: #808000; text-decoration-color: #808000\">joined_timestamp</span>=<span style=\"color: #800080; text-decoration-color: #800080; font-style: italic\">None</span>,\n",
       "        <span style=\"color: #808000; text-decoration-color: #808000\">root_id</span>=<span style=\"color: #008000; text-decoration-color: #008000\">'r-123'</span>\n",
       "    <span style=\"font-weight: bold\">)</span>\n",
       "<span style=\"font-weight: bold\">]</span>\n",
       "</pre>\n"
      ],
      "text/plain": [
       "\u001b[1m[\u001b[0m\n",
       "    \u001b[1;35mAccount\u001b[0m\u001b[1m(\u001b[0m\n",
       "        \u001b[33mid\u001b[0m=\u001b[32m'111111111111'\u001b[0m,\n",
       "        \u001b[33marn\u001b[0m=\u001b[3;35mNone\u001b[0m,\n",
       "        \u001b[33mname\u001b[0m=\u001b[32m'admin'\u001b[0m,\n",
       "        \u001b[33memail\u001b[0m=\u001b[3;35mNone\u001b[0m,\n",
       "        \u001b[33mstatus\u001b[0m=\u001b[3;35mNone\u001b[0m,\n",
       "        \u001b[33mjoined_method\u001b[0m=\u001b[3;35mNone\u001b[0m,\n",
       "        \u001b[33mjoined_timestamp\u001b[0m=\u001b[3;35mNone\u001b[0m,\n",
       "        \u001b[33mroot_id\u001b[0m=\u001b[32m'r-123'\u001b[0m\n",
       "    \u001b[1m)\u001b[0m,\n",
       "    \u001b[1;35mAccount\u001b[0m\u001b[1m(\u001b[0m\n",
       "        \u001b[33mid\u001b[0m=\u001b[32m'222222222222'\u001b[0m,\n",
       "        \u001b[33marn\u001b[0m=\u001b[3;35mNone\u001b[0m,\n",
       "        \u001b[33mname\u001b[0m=\u001b[32m'sec_login'\u001b[0m,\n",
       "        \u001b[33memail\u001b[0m=\u001b[3;35mNone\u001b[0m,\n",
       "        \u001b[33mstatus\u001b[0m=\u001b[3;35mNone\u001b[0m,\n",
       "        \u001b[33mjoined_method\u001b[0m=\u001b[3;35mNone\u001b[0m,\n",
       "        \u001b[33mjoined_timestamp\u001b[0m=\u001b[3;35mNone\u001b[0m,\n",
       "        \u001b[33mroot_id\u001b[0m=\u001b[32m'r-123'\u001b[0m\n",
       "    \u001b[1m)\u001b[0m,\n",
       "    \u001b[1;35mAccount\u001b[0m\u001b[1m(\u001b[0m\n",
       "        \u001b[33mid\u001b[0m=\u001b[32m'333333333333'\u001b[0m,\n",
       "        \u001b[33marn\u001b[0m=\u001b[3;35mNone\u001b[0m,\n",
       "        \u001b[33mname\u001b[0m=\u001b[32m'sec_audit'\u001b[0m,\n",
       "        \u001b[33memail\u001b[0m=\u001b[3;35mNone\u001b[0m,\n",
       "        \u001b[33mstatus\u001b[0m=\u001b[3;35mNone\u001b[0m,\n",
       "        \u001b[33mjoined_method\u001b[0m=\u001b[3;35mNone\u001b[0m,\n",
       "        \u001b[33mjoined_timestamp\u001b[0m=\u001b[3;35mNone\u001b[0m,\n",
       "        \u001b[33mroot_id\u001b[0m=\u001b[32m'r-123'\u001b[0m\n",
       "    \u001b[1m)\u001b[0m,\n",
       "    \u001b[1;35mAccount\u001b[0m\u001b[1m(\u001b[0m\n",
       "        \u001b[33mid\u001b[0m=\u001b[32m'444444444444'\u001b[0m,\n",
       "        \u001b[33marn\u001b[0m=\u001b[3;35mNone\u001b[0m,\n",
       "        \u001b[33mname\u001b[0m=\u001b[32m'devops'\u001b[0m,\n",
       "        \u001b[33memail\u001b[0m=\u001b[3;35mNone\u001b[0m,\n",
       "        \u001b[33mstatus\u001b[0m=\u001b[3;35mNone\u001b[0m,\n",
       "        \u001b[33mjoined_method\u001b[0m=\u001b[3;35mNone\u001b[0m,\n",
       "        \u001b[33mjoined_timestamp\u001b[0m=\u001b[3;35mNone\u001b[0m,\n",
       "        \u001b[33mroot_id\u001b[0m=\u001b[32m'r-123'\u001b[0m\n",
       "    \u001b[1m)\u001b[0m,\n",
       "    \u001b[1;35mAccount\u001b[0m\u001b[1m(\u001b[0m\n",
       "        \u001b[33mid\u001b[0m=\u001b[32m'555555555555'\u001b[0m,\n",
       "        \u001b[33marn\u001b[0m=\u001b[3;35mNone\u001b[0m,\n",
       "        \u001b[33mname\u001b[0m=\u001b[32m'app-dev'\u001b[0m,\n",
       "        \u001b[33memail\u001b[0m=\u001b[3;35mNone\u001b[0m,\n",
       "        \u001b[33mstatus\u001b[0m=\u001b[3;35mNone\u001b[0m,\n",
       "        \u001b[33mjoined_method\u001b[0m=\u001b[3;35mNone\u001b[0m,\n",
       "        \u001b[33mjoined_timestamp\u001b[0m=\u001b[3;35mNone\u001b[0m,\n",
       "        \u001b[33mroot_id\u001b[0m=\u001b[32m'r-123'\u001b[0m\n",
       "    \u001b[1m)\u001b[0m,\n",
       "    \u001b[1;35mAccount\u001b[0m\u001b[1m(\u001b[0m\n",
       "        \u001b[33mid\u001b[0m=\u001b[32m'666666666666'\u001b[0m,\n",
       "        \u001b[33marn\u001b[0m=\u001b[3;35mNone\u001b[0m,\n",
       "        \u001b[33mname\u001b[0m=\u001b[32m'app-test'\u001b[0m,\n",
       "        \u001b[33memail\u001b[0m=\u001b[3;35mNone\u001b[0m,\n",
       "        \u001b[33mstatus\u001b[0m=\u001b[3;35mNone\u001b[0m,\n",
       "        \u001b[33mjoined_method\u001b[0m=\u001b[3;35mNone\u001b[0m,\n",
       "        \u001b[33mjoined_timestamp\u001b[0m=\u001b[3;35mNone\u001b[0m,\n",
       "        \u001b[33mroot_id\u001b[0m=\u001b[32m'r-123'\u001b[0m\n",
       "    \u001b[1m)\u001b[0m,\n",
       "    \u001b[1;35mAccount\u001b[0m\u001b[1m(\u001b[0m\n",
       "        \u001b[33mid\u001b[0m=\u001b[32m'777777777777'\u001b[0m,\n",
       "        \u001b[33marn\u001b[0m=\u001b[3;35mNone\u001b[0m,\n",
       "        \u001b[33mname\u001b[0m=\u001b[32m'app-prod'\u001b[0m,\n",
       "        \u001b[33memail\u001b[0m=\u001b[3;35mNone\u001b[0m,\n",
       "        \u001b[33mstatus\u001b[0m=\u001b[3;35mNone\u001b[0m,\n",
       "        \u001b[33mjoined_method\u001b[0m=\u001b[3;35mNone\u001b[0m,\n",
       "        \u001b[33mjoined_timestamp\u001b[0m=\u001b[3;35mNone\u001b[0m,\n",
       "        \u001b[33mroot_id\u001b[0m=\u001b[32m'r-123'\u001b[0m\n",
       "    \u001b[1m)\u001b[0m\n",
       "\u001b[1m]\u001b[0m\n"
      ]
     },
     "metadata": {},
     "output_type": "display_data"
    }
   ],
   "source": [
    "rprint(org_struct.root.all_accounts)"
   ]
  },
  {
   "cell_type": "markdown",
   "id": "968cca6467d1a0ca",
   "metadata": {
    "collapsed": false,
    "jupyter": {
     "outputs_hidden": false
    }
   },
   "source": [
    "## Iterate AWS Organization Units\n",
    "\n",
    "Only direct child OUs in this node."
   ]
  },
  {
   "cell_type": "code",
   "execution_count": 10,
   "id": "98637070b739fad4",
   "metadata": {
    "ExecuteTime": {
     "end_time": "2024-11-11T16:15:12.993373Z",
     "start_time": "2024-11-11T16:15:12.987822Z"
    },
    "collapsed": false,
    "jupyter": {
     "outputs_hidden": false
    }
   },
   "outputs": [
    {
     "data": {
      "text/html": [
       "<pre style=\"white-space:pre;overflow-x:auto;line-height:normal;font-family:Menlo,'DejaVu Sans Mono',consolas,'Courier New',monospace\"><span style=\"font-weight: bold\">[</span>\n",
       "    <span style=\"color: #800080; text-decoration-color: #800080; font-weight: bold\">OrganizationalUnit</span><span style=\"font-weight: bold\">(</span><span style=\"color: #808000; text-decoration-color: #808000\">id</span>=<span style=\"color: #008000; text-decoration-color: #008000\">'ou-111'</span>, <span style=\"color: #808000; text-decoration-color: #808000\">arn</span>=<span style=\"color: #800080; text-decoration-color: #800080; font-style: italic\">None</span>, <span style=\"color: #808000; text-decoration-color: #808000\">name</span>=<span style=\"color: #008000; text-decoration-color: #008000\">'Security'</span>, <span style=\"color: #808000; text-decoration-color: #808000\">root_id</span>=<span style=\"color: #008000; text-decoration-color: #008000\">'r-123'</span><span style=\"font-weight: bold\">)</span>,\n",
       "    <span style=\"color: #800080; text-decoration-color: #800080; font-weight: bold\">OrganizationalUnit</span><span style=\"font-weight: bold\">(</span><span style=\"color: #808000; text-decoration-color: #808000\">id</span>=<span style=\"color: #008000; text-decoration-color: #008000\">'ou-222'</span>, <span style=\"color: #808000; text-decoration-color: #808000\">arn</span>=<span style=\"color: #800080; text-decoration-color: #800080; font-style: italic\">None</span>, <span style=\"color: #808000; text-decoration-color: #808000\">name</span>=<span style=\"color: #008000; text-decoration-color: #008000\">'Application'</span>, <span style=\"color: #808000; text-decoration-color: #808000\">root_id</span>=<span style=\"color: #008000; text-decoration-color: #008000\">'r-123'</span><span style=\"font-weight: bold\">)</span>\n",
       "<span style=\"font-weight: bold\">]</span>\n",
       "</pre>\n"
      ],
      "text/plain": [
       "\u001b[1m[\u001b[0m\n",
       "    \u001b[1;35mOrganizationalUnit\u001b[0m\u001b[1m(\u001b[0m\u001b[33mid\u001b[0m=\u001b[32m'ou-111'\u001b[0m, \u001b[33marn\u001b[0m=\u001b[3;35mNone\u001b[0m, \u001b[33mname\u001b[0m=\u001b[32m'Security'\u001b[0m, \u001b[33mroot_id\u001b[0m=\u001b[32m'r-123'\u001b[0m\u001b[1m)\u001b[0m,\n",
       "    \u001b[1;35mOrganizationalUnit\u001b[0m\u001b[1m(\u001b[0m\u001b[33mid\u001b[0m=\u001b[32m'ou-222'\u001b[0m, \u001b[33marn\u001b[0m=\u001b[3;35mNone\u001b[0m, \u001b[33mname\u001b[0m=\u001b[32m'Application'\u001b[0m, \u001b[33mroot_id\u001b[0m=\u001b[32m'r-123'\u001b[0m\u001b[1m)\u001b[0m\n",
       "\u001b[1m]\u001b[0m\n"
      ]
     },
     "metadata": {},
     "output_type": "display_data"
    }
   ],
   "source": [
    "rprint(org_struct.root.org_units)"
   ]
  },
  {
   "cell_type": "markdown",
   "id": "3c5b506f4c5f62de",
   "metadata": {
    "collapsed": false,
    "jupyter": {
     "outputs_hidden": false
    }
   },
   "source": [
    "Recursively iterate all OUs"
   ]
  },
  {
   "cell_type": "code",
   "execution_count": 11,
   "id": "46a9941c8d59c989",
   "metadata": {
    "ExecuteTime": {
     "end_time": "2024-11-11T16:15:20.973089Z",
     "start_time": "2024-11-11T16:15:20.961708Z"
    },
    "collapsed": false,
    "jupyter": {
     "outputs_hidden": false
    }
   },
   "outputs": [
    {
     "data": {
      "text/html": [
       "<pre style=\"white-space:pre;overflow-x:auto;line-height:normal;font-family:Menlo,'DejaVu Sans Mono',consolas,'Courier New',monospace\"><span style=\"font-weight: bold\">[</span>\n",
       "    <span style=\"color: #800080; text-decoration-color: #800080; font-weight: bold\">OrganizationalUnit</span><span style=\"font-weight: bold\">(</span><span style=\"color: #808000; text-decoration-color: #808000\">id</span>=<span style=\"color: #008000; text-decoration-color: #008000\">'ou-111'</span>, <span style=\"color: #808000; text-decoration-color: #808000\">arn</span>=<span style=\"color: #800080; text-decoration-color: #800080; font-style: italic\">None</span>, <span style=\"color: #808000; text-decoration-color: #808000\">name</span>=<span style=\"color: #008000; text-decoration-color: #008000\">'Security'</span>, <span style=\"color: #808000; text-decoration-color: #808000\">root_id</span>=<span style=\"color: #008000; text-decoration-color: #008000\">'r-123'</span><span style=\"font-weight: bold\">)</span>,\n",
       "    <span style=\"color: #800080; text-decoration-color: #800080; font-weight: bold\">OrganizationalUnit</span><span style=\"font-weight: bold\">(</span><span style=\"color: #808000; text-decoration-color: #808000\">id</span>=<span style=\"color: #008000; text-decoration-color: #008000\">'ou-222'</span>, <span style=\"color: #808000; text-decoration-color: #808000\">arn</span>=<span style=\"color: #800080; text-decoration-color: #800080; font-style: italic\">None</span>, <span style=\"color: #808000; text-decoration-color: #808000\">name</span>=<span style=\"color: #008000; text-decoration-color: #008000\">'Application'</span>, <span style=\"color: #808000; text-decoration-color: #808000\">root_id</span>=<span style=\"color: #008000; text-decoration-color: #008000\">'r-123'</span><span style=\"font-weight: bold\">)</span>\n",
       "<span style=\"font-weight: bold\">]</span>\n",
       "</pre>\n"
      ],
      "text/plain": [
       "\u001b[1m[\u001b[0m\n",
       "    \u001b[1;35mOrganizationalUnit\u001b[0m\u001b[1m(\u001b[0m\u001b[33mid\u001b[0m=\u001b[32m'ou-111'\u001b[0m, \u001b[33marn\u001b[0m=\u001b[3;35mNone\u001b[0m, \u001b[33mname\u001b[0m=\u001b[32m'Security'\u001b[0m, \u001b[33mroot_id\u001b[0m=\u001b[32m'r-123'\u001b[0m\u001b[1m)\u001b[0m,\n",
       "    \u001b[1;35mOrganizationalUnit\u001b[0m\u001b[1m(\u001b[0m\u001b[33mid\u001b[0m=\u001b[32m'ou-222'\u001b[0m, \u001b[33marn\u001b[0m=\u001b[3;35mNone\u001b[0m, \u001b[33mname\u001b[0m=\u001b[32m'Application'\u001b[0m, \u001b[33mroot_id\u001b[0m=\u001b[32m'r-123'\u001b[0m\u001b[1m)\u001b[0m\n",
       "\u001b[1m]\u001b[0m\n"
      ]
     },
     "metadata": {},
     "output_type": "display_data"
    }
   ],
   "source": [
    "rprint(org_struct.root.all_org_units)"
   ]
  },
  {
   "cell_type": "markdown",
   "id": "461ed0c1c837a259",
   "metadata": {
    "collapsed": false,
    "jupyter": {
     "outputs_hidden": false
    }
   },
   "source": [
    "## Access an Organization Unit or Account\n",
    "\n",
    "You can use either the ``id`` or the ``name`` to access the OU or account.\n"
   ]
  },
  {
   "cell_type": "code",
   "execution_count": 12,
   "id": "4fdee23faf0542e",
   "metadata": {
    "ExecuteTime": {
     "end_time": "2024-11-11T16:16:21.839810Z",
     "start_time": "2024-11-11T16:16:21.830243Z"
    },
    "collapsed": false,
    "jupyter": {
     "outputs_hidden": false
    }
   },
   "outputs": [
    {
     "data": {
      "text/html": [
       "<pre style=\"white-space:pre;overflow-x:auto;line-height:normal;font-family:Menlo,'DejaVu Sans Mono',consolas,'Courier New',monospace\">Application <span style=\"font-weight: bold\">(</span>OrgUnit <span style=\"color: #008000; text-decoration-color: #008000\">'ou-222'</span><span style=\"font-weight: bold\">)</span>\n",
       "</pre>\n"
      ],
      "text/plain": [
       "Application \u001b[1m(\u001b[0mOrgUnit \u001b[32m'ou-222'\u001b[0m\u001b[1m)\u001b[0m\n"
      ]
     },
     "metadata": {},
     "output_type": "display_data"
    }
   ],
   "source": [
    "rprint(org_struct.get_node_by_id(\"ou-222\"))"
   ]
  },
  {
   "cell_type": "code",
   "execution_count": 13,
   "id": "3af0db8a6cd9bec7",
   "metadata": {
    "ExecuteTime": {
     "end_time": "2024-11-11T16:16:41.136066Z",
     "start_time": "2024-11-11T16:16:41.130835Z"
    },
    "collapsed": false,
    "jupyter": {
     "outputs_hidden": false
    }
   },
   "outputs": [
    {
     "data": {
      "text/html": [
       "<pre style=\"white-space:pre;overflow-x:auto;line-height:normal;font-family:Menlo,'DejaVu Sans Mono',consolas,'Courier New',monospace\">Application <span style=\"font-weight: bold\">(</span>OrgUnit <span style=\"color: #008000; text-decoration-color: #008000\">'ou-222'</span><span style=\"font-weight: bold\">)</span>\n",
       "</pre>\n"
      ],
      "text/plain": [
       "Application \u001b[1m(\u001b[0mOrgUnit \u001b[32m'ou-222'\u001b[0m\u001b[1m)\u001b[0m\n"
      ]
     },
     "metadata": {},
     "output_type": "display_data"
    }
   ],
   "source": [
    "rprint(org_struct.get_node_by_name(\"Application\"))"
   ]
  },
  {
   "cell_type": "code",
   "execution_count": 14,
   "id": "97cb333d8aeb0cb1",
   "metadata": {
    "ExecuteTime": {
     "end_time": "2024-11-11T16:16:52.022284Z",
     "start_time": "2024-11-11T16:16:52.017125Z"
    },
    "collapsed": false,
    "jupyter": {
     "outputs_hidden": false
    }
   },
   "outputs": [
    {
     "data": {
      "text/html": [
       "<pre style=\"white-space:pre;overflow-x:auto;line-height:normal;font-family:Menlo,'DejaVu Sans Mono',consolas,'Courier New',monospace\">app-prod <span style=\"font-weight: bold\">(</span>Account <span style=\"color: #008000; text-decoration-color: #008000\">'777777777777'</span><span style=\"font-weight: bold\">)</span>\n",
       "</pre>\n"
      ],
      "text/plain": [
       "app-prod \u001b[1m(\u001b[0mAccount \u001b[32m'777777777777'\u001b[0m\u001b[1m)\u001b[0m\n"
      ]
     },
     "metadata": {},
     "output_type": "display_data"
    }
   ],
   "source": [
    "rprint(org_struct.get_node_by_id(\"777777777777\"))"
   ]
  },
  {
   "cell_type": "code",
   "execution_count": 15,
   "id": "a962df0e3d220acf",
   "metadata": {
    "ExecuteTime": {
     "end_time": "2024-11-11T16:17:07.232277Z",
     "start_time": "2024-11-11T16:17:07.225415Z"
    },
    "collapsed": false,
    "jupyter": {
     "outputs_hidden": false
    }
   },
   "outputs": [
    {
     "data": {
      "text/html": [
       "<pre style=\"white-space:pre;overflow-x:auto;line-height:normal;font-family:Menlo,'DejaVu Sans Mono',consolas,'Courier New',monospace\">app-prod <span style=\"font-weight: bold\">(</span>Account <span style=\"color: #008000; text-decoration-color: #008000\">'777777777777'</span><span style=\"font-weight: bold\">)</span>\n",
       "</pre>\n"
      ],
      "text/plain": [
       "app-prod \u001b[1m(\u001b[0mAccount \u001b[32m'777777777777'\u001b[0m\u001b[1m)\u001b[0m\n"
      ]
     },
     "metadata": {},
     "output_type": "display_data"
    }
   ],
   "source": [
    "rprint(org_struct.get_node_by_name(\"app-prod\"))"
   ]
  },
  {
   "cell_type": "markdown",
   "id": "6e9a83e685c27747",
   "metadata": {
    "collapsed": false,
    "jupyter": {
     "outputs_hidden": false
    }
   },
   "source": [
    "## Organization Unit is also A Node\n",
    "\n",
    "Since organization unit is also a tree node, the following methods are also available for an organization unit:\n",
    "\n",
    "- ``accounts``: direct child accounts\n",
    "- ``org_units``: direct child organization units\n",
    "- ``all_accounts``: recursively get all accounts\n",
    "- ``all_org_units``: recursively get all organization units"
   ]
  },
  {
   "cell_type": "code",
   "execution_count": 16,
   "id": "f8e36c1413f62b60",
   "metadata": {
    "ExecuteTime": {
     "end_time": "2024-11-11T16:17:38.698610Z",
     "start_time": "2024-11-11T16:17:38.696472Z"
    },
    "collapsed": false,
    "jupyter": {
     "outputs_hidden": false
    }
   },
   "outputs": [],
   "source": [
    "ou_app = org_struct.get_node_by_name(\"Application\")"
   ]
  },
  {
   "cell_type": "code",
   "execution_count": 17,
   "id": "2ba25be7601cb58e",
   "metadata": {
    "ExecuteTime": {
     "end_time": "2024-11-11T16:17:45.536906Z",
     "start_time": "2024-11-11T16:17:45.534100Z"
    },
    "collapsed": false,
    "jupyter": {
     "outputs_hidden": false
    }
   },
   "outputs": [
    {
     "data": {
      "text/html": [
       "<pre style=\"white-space:pre;overflow-x:auto;line-height:normal;font-family:Menlo,'DejaVu Sans Mono',consolas,'Courier New',monospace\"><span style=\"font-weight: bold\">[</span>\n",
       "    <span style=\"color: #800080; text-decoration-color: #800080; font-weight: bold\">Account</span><span style=\"font-weight: bold\">(</span>\n",
       "        <span style=\"color: #808000; text-decoration-color: #808000\">id</span>=<span style=\"color: #008000; text-decoration-color: #008000\">'444444444444'</span>,\n",
       "        <span style=\"color: #808000; text-decoration-color: #808000\">arn</span>=<span style=\"color: #800080; text-decoration-color: #800080; font-style: italic\">None</span>,\n",
       "        <span style=\"color: #808000; text-decoration-color: #808000\">name</span>=<span style=\"color: #008000; text-decoration-color: #008000\">'devops'</span>,\n",
       "        <span style=\"color: #808000; text-decoration-color: #808000\">email</span>=<span style=\"color: #800080; text-decoration-color: #800080; font-style: italic\">None</span>,\n",
       "        <span style=\"color: #808000; text-decoration-color: #808000\">status</span>=<span style=\"color: #800080; text-decoration-color: #800080; font-style: italic\">None</span>,\n",
       "        <span style=\"color: #808000; text-decoration-color: #808000\">joined_method</span>=<span style=\"color: #800080; text-decoration-color: #800080; font-style: italic\">None</span>,\n",
       "        <span style=\"color: #808000; text-decoration-color: #808000\">joined_timestamp</span>=<span style=\"color: #800080; text-decoration-color: #800080; font-style: italic\">None</span>,\n",
       "        <span style=\"color: #808000; text-decoration-color: #808000\">root_id</span>=<span style=\"color: #008000; text-decoration-color: #008000\">'r-123'</span>\n",
       "    <span style=\"font-weight: bold\">)</span>,\n",
       "    <span style=\"color: #800080; text-decoration-color: #800080; font-weight: bold\">Account</span><span style=\"font-weight: bold\">(</span>\n",
       "        <span style=\"color: #808000; text-decoration-color: #808000\">id</span>=<span style=\"color: #008000; text-decoration-color: #008000\">'555555555555'</span>,\n",
       "        <span style=\"color: #808000; text-decoration-color: #808000\">arn</span>=<span style=\"color: #800080; text-decoration-color: #800080; font-style: italic\">None</span>,\n",
       "        <span style=\"color: #808000; text-decoration-color: #808000\">name</span>=<span style=\"color: #008000; text-decoration-color: #008000\">'app-dev'</span>,\n",
       "        <span style=\"color: #808000; text-decoration-color: #808000\">email</span>=<span style=\"color: #800080; text-decoration-color: #800080; font-style: italic\">None</span>,\n",
       "        <span style=\"color: #808000; text-decoration-color: #808000\">status</span>=<span style=\"color: #800080; text-decoration-color: #800080; font-style: italic\">None</span>,\n",
       "        <span style=\"color: #808000; text-decoration-color: #808000\">joined_method</span>=<span style=\"color: #800080; text-decoration-color: #800080; font-style: italic\">None</span>,\n",
       "        <span style=\"color: #808000; text-decoration-color: #808000\">joined_timestamp</span>=<span style=\"color: #800080; text-decoration-color: #800080; font-style: italic\">None</span>,\n",
       "        <span style=\"color: #808000; text-decoration-color: #808000\">root_id</span>=<span style=\"color: #008000; text-decoration-color: #008000\">'r-123'</span>\n",
       "    <span style=\"font-weight: bold\">)</span>,\n",
       "    <span style=\"color: #800080; text-decoration-color: #800080; font-weight: bold\">Account</span><span style=\"font-weight: bold\">(</span>\n",
       "        <span style=\"color: #808000; text-decoration-color: #808000\">id</span>=<span style=\"color: #008000; text-decoration-color: #008000\">'666666666666'</span>,\n",
       "        <span style=\"color: #808000; text-decoration-color: #808000\">arn</span>=<span style=\"color: #800080; text-decoration-color: #800080; font-style: italic\">None</span>,\n",
       "        <span style=\"color: #808000; text-decoration-color: #808000\">name</span>=<span style=\"color: #008000; text-decoration-color: #008000\">'app-test'</span>,\n",
       "        <span style=\"color: #808000; text-decoration-color: #808000\">email</span>=<span style=\"color: #800080; text-decoration-color: #800080; font-style: italic\">None</span>,\n",
       "        <span style=\"color: #808000; text-decoration-color: #808000\">status</span>=<span style=\"color: #800080; text-decoration-color: #800080; font-style: italic\">None</span>,\n",
       "        <span style=\"color: #808000; text-decoration-color: #808000\">joined_method</span>=<span style=\"color: #800080; text-decoration-color: #800080; font-style: italic\">None</span>,\n",
       "        <span style=\"color: #808000; text-decoration-color: #808000\">joined_timestamp</span>=<span style=\"color: #800080; text-decoration-color: #800080; font-style: italic\">None</span>,\n",
       "        <span style=\"color: #808000; text-decoration-color: #808000\">root_id</span>=<span style=\"color: #008000; text-decoration-color: #008000\">'r-123'</span>\n",
       "    <span style=\"font-weight: bold\">)</span>,\n",
       "    <span style=\"color: #800080; text-decoration-color: #800080; font-weight: bold\">Account</span><span style=\"font-weight: bold\">(</span>\n",
       "        <span style=\"color: #808000; text-decoration-color: #808000\">id</span>=<span style=\"color: #008000; text-decoration-color: #008000\">'777777777777'</span>,\n",
       "        <span style=\"color: #808000; text-decoration-color: #808000\">arn</span>=<span style=\"color: #800080; text-decoration-color: #800080; font-style: italic\">None</span>,\n",
       "        <span style=\"color: #808000; text-decoration-color: #808000\">name</span>=<span style=\"color: #008000; text-decoration-color: #008000\">'app-prod'</span>,\n",
       "        <span style=\"color: #808000; text-decoration-color: #808000\">email</span>=<span style=\"color: #800080; text-decoration-color: #800080; font-style: italic\">None</span>,\n",
       "        <span style=\"color: #808000; text-decoration-color: #808000\">status</span>=<span style=\"color: #800080; text-decoration-color: #800080; font-style: italic\">None</span>,\n",
       "        <span style=\"color: #808000; text-decoration-color: #808000\">joined_method</span>=<span style=\"color: #800080; text-decoration-color: #800080; font-style: italic\">None</span>,\n",
       "        <span style=\"color: #808000; text-decoration-color: #808000\">joined_timestamp</span>=<span style=\"color: #800080; text-decoration-color: #800080; font-style: italic\">None</span>,\n",
       "        <span style=\"color: #808000; text-decoration-color: #808000\">root_id</span>=<span style=\"color: #008000; text-decoration-color: #008000\">'r-123'</span>\n",
       "    <span style=\"font-weight: bold\">)</span>\n",
       "<span style=\"font-weight: bold\">]</span>\n",
       "</pre>\n"
      ],
      "text/plain": [
       "\u001b[1m[\u001b[0m\n",
       "    \u001b[1;35mAccount\u001b[0m\u001b[1m(\u001b[0m\n",
       "        \u001b[33mid\u001b[0m=\u001b[32m'444444444444'\u001b[0m,\n",
       "        \u001b[33marn\u001b[0m=\u001b[3;35mNone\u001b[0m,\n",
       "        \u001b[33mname\u001b[0m=\u001b[32m'devops'\u001b[0m,\n",
       "        \u001b[33memail\u001b[0m=\u001b[3;35mNone\u001b[0m,\n",
       "        \u001b[33mstatus\u001b[0m=\u001b[3;35mNone\u001b[0m,\n",
       "        \u001b[33mjoined_method\u001b[0m=\u001b[3;35mNone\u001b[0m,\n",
       "        \u001b[33mjoined_timestamp\u001b[0m=\u001b[3;35mNone\u001b[0m,\n",
       "        \u001b[33mroot_id\u001b[0m=\u001b[32m'r-123'\u001b[0m\n",
       "    \u001b[1m)\u001b[0m,\n",
       "    \u001b[1;35mAccount\u001b[0m\u001b[1m(\u001b[0m\n",
       "        \u001b[33mid\u001b[0m=\u001b[32m'555555555555'\u001b[0m,\n",
       "        \u001b[33marn\u001b[0m=\u001b[3;35mNone\u001b[0m,\n",
       "        \u001b[33mname\u001b[0m=\u001b[32m'app-dev'\u001b[0m,\n",
       "        \u001b[33memail\u001b[0m=\u001b[3;35mNone\u001b[0m,\n",
       "        \u001b[33mstatus\u001b[0m=\u001b[3;35mNone\u001b[0m,\n",
       "        \u001b[33mjoined_method\u001b[0m=\u001b[3;35mNone\u001b[0m,\n",
       "        \u001b[33mjoined_timestamp\u001b[0m=\u001b[3;35mNone\u001b[0m,\n",
       "        \u001b[33mroot_id\u001b[0m=\u001b[32m'r-123'\u001b[0m\n",
       "    \u001b[1m)\u001b[0m,\n",
       "    \u001b[1;35mAccount\u001b[0m\u001b[1m(\u001b[0m\n",
       "        \u001b[33mid\u001b[0m=\u001b[32m'666666666666'\u001b[0m,\n",
       "        \u001b[33marn\u001b[0m=\u001b[3;35mNone\u001b[0m,\n",
       "        \u001b[33mname\u001b[0m=\u001b[32m'app-test'\u001b[0m,\n",
       "        \u001b[33memail\u001b[0m=\u001b[3;35mNone\u001b[0m,\n",
       "        \u001b[33mstatus\u001b[0m=\u001b[3;35mNone\u001b[0m,\n",
       "        \u001b[33mjoined_method\u001b[0m=\u001b[3;35mNone\u001b[0m,\n",
       "        \u001b[33mjoined_timestamp\u001b[0m=\u001b[3;35mNone\u001b[0m,\n",
       "        \u001b[33mroot_id\u001b[0m=\u001b[32m'r-123'\u001b[0m\n",
       "    \u001b[1m)\u001b[0m,\n",
       "    \u001b[1;35mAccount\u001b[0m\u001b[1m(\u001b[0m\n",
       "        \u001b[33mid\u001b[0m=\u001b[32m'777777777777'\u001b[0m,\n",
       "        \u001b[33marn\u001b[0m=\u001b[3;35mNone\u001b[0m,\n",
       "        \u001b[33mname\u001b[0m=\u001b[32m'app-prod'\u001b[0m,\n",
       "        \u001b[33memail\u001b[0m=\u001b[3;35mNone\u001b[0m,\n",
       "        \u001b[33mstatus\u001b[0m=\u001b[3;35mNone\u001b[0m,\n",
       "        \u001b[33mjoined_method\u001b[0m=\u001b[3;35mNone\u001b[0m,\n",
       "        \u001b[33mjoined_timestamp\u001b[0m=\u001b[3;35mNone\u001b[0m,\n",
       "        \u001b[33mroot_id\u001b[0m=\u001b[32m'r-123'\u001b[0m\n",
       "    \u001b[1m)\u001b[0m\n",
       "\u001b[1m]\u001b[0m\n"
      ]
     },
     "metadata": {},
     "output_type": "display_data"
    }
   ],
   "source": [
    "rprint(ou_app.accounts)"
   ]
  },
  {
   "cell_type": "code",
   "execution_count": null,
   "id": "b91d9b42b0ad958c",
   "metadata": {
    "collapsed": false,
    "jupyter": {
     "outputs_hidden": false
    }
   },
   "outputs": [],
   "source": []
  }
 ],
 "metadata": {
  "kernelspec": {
   "display_name": "Python 3 (ipykernel)",
   "language": "python",
   "name": "python3"
  },
  "language_info": {
   "codemirror_mode": {
    "name": "ipython",
    "version": 3
   },
   "file_extension": ".py",
   "mimetype": "text/x-python",
   "name": "python",
   "nbconvert_exporter": "python",
   "pygments_lexer": "ipython3",
   "version": "3.10.10"
  }
 },
 "nbformat": 4,
 "nbformat_minor": 5
}
